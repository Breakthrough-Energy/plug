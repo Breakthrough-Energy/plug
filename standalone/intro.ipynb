{
 "cells": [
  {
   "cell_type": "markdown",
   "id": "2d8e5ead",
   "metadata": {},
   "source": [
    "### Basic usage\n",
    "First we need to import the `Scenario` class which will be the central point for managing a given.. scenario.\n",
    "Here's how to use it"
   ]
  },
  {
   "cell_type": "code",
   "execution_count": 1,
   "id": "d048cbb8",
   "metadata": {
    "tags": []
   },
   "outputs": [
    {
     "name": "stdout",
     "output_type": "stream",
     "text": [
      "SCENARIO: test | EasternBase_2020_3\n",
      "\n",
      "--> State\n",
      "analyze\n",
      "--> Loading grid\n",
      "Loading bus\n",
      "Loading plant\n",
      "Loading heat_rate_curve\n",
      "Loading gencost_before\n",
      "Loading gencost_after\n",
      "Loading branch\n",
      "Loading dcline\n",
      "Loading sub\n",
      "Loading bus2sub\n",
      "--> Loading ct\n"
     ]
    }
   ],
   "source": [
    "from powersimdata import Scenario\n",
    "scenario = Scenario(403)"
   ]
  },
  {
   "cell_type": "markdown",
   "id": "7ddf32bc",
   "metadata": {},
   "source": [
    "### Note on documentation\n",
    "See the [module index](https://breakthrough-energy.github.io/docs/py-modindex.html) on our docs website for a full listing of the code.\n",
    "There is also interactive help available:"
   ]
  },
  {
   "cell_type": "code",
   "execution_count": 2,
   "id": "23c50eac",
   "metadata": {},
   "outputs": [
    {
     "data": {
      "text/plain": [
       "\u001b[0;31mType:\u001b[0m           Scenario\n",
       "\u001b[0;31mString form:\u001b[0m    <powersimdata.scenario.scenario.Scenario object at 0x7f010b2902b0>\n",
       "\u001b[0;31mFile:\u001b[0m           /PowerSimData/powersimdata/scenario/scenario.py\n",
       "\u001b[0;31mDocstring:\u001b[0m     \n",
       "Handles scenario.\n",
       "\n",
       ":param int/str descriptor: scenario name or index. If None, default to a Scenario\n",
       "    in Create state.\n",
       "\u001b[0;31mInit docstring:\u001b[0m Constructor.\n"
      ]
     },
     "metadata": {},
     "output_type": "display_data"
    }
   ],
   "source": [
    "# see the docstring\n",
    "scenario?"
   ]
  },
  {
   "cell_type": "code",
   "execution_count": 3,
   "id": "ac6eb077",
   "metadata": {},
   "outputs": [
    {
     "name": "stdout",
     "output_type": "stream",
     "text": [
      "--------------------\n",
      "SCENARIO INFORMATION\n",
      "--------------------\n",
      "id: 403\n",
      "plan: test\n",
      "name: EasternBase_2020_3\n",
      "state: analyze\n",
      "grid_model: usa_tamu\n",
      "interconnect: Eastern\n",
      "base_demand: vJan2021\n",
      "base_hydro: vJan2021\n",
      "base_solar: vJan2021\n",
      "base_wind: vJan2021\n",
      "change_table: Yes\n",
      "start_date: 2016-01-01 00:00:00\n",
      "end_date: 2016-12-31 23:00:00\n",
      "interval: 24H\n",
      "engine: REISE\n",
      "runtime: 18:21\n",
      "infeasibilities: \n"
     ]
    }
   ],
   "source": [
    "scenario.print_scenario_info()"
   ]
  },
  {
   "cell_type": "markdown",
   "id": "01e11ba2",
   "metadata": {
    "tags": []
   },
   "source": [
    "### Load base scenario grid data and results"
   ]
  },
  {
   "cell_type": "code",
   "execution_count": 4,
   "id": "7c5d407c",
   "metadata": {},
   "outputs": [
    {
     "name": "stdout",
     "output_type": "stream",
     "text": [
      "--> Loading LOAD_SHED\n",
      "--> Loading CONGU\n",
      "--> Loading CONGL\n"
     ]
    }
   ],
   "source": [
    "ct= scenario.get_ct()\n",
    "grid = scenario.get_grid()\n",
    "load_shed= scenario.get_load_shed()\n",
    "congu= scenario.get_congu() # get positive direction hourly branch congestion\n",
    "congl= scenario.get_congl() # get negative direction hourly branch congestion"
   ]
  },
  {
   "cell_type": "markdown",
   "id": "74d3a9ff",
   "metadata": {},
   "source": [
    "### Congestion analysis"
   ]
  },
  {
   "cell_type": "code",
   "execution_count": 5,
   "id": "a6c95ff3",
   "metadata": {},
   "outputs": [],
   "source": [
    "congu_yearly = (congu.sum(axis = 0)[congu.sum(axis = 0)!=0]).sort_values(ascending=False) # annual positive direction congestion\n",
    "congl_yearly = (congl.sum(axis = 0)[congl.sum(axis = 0)!=0]).sort_values(ascending=False) # annual negative direction congestion"
   ]
  },
  {
   "cell_type": "code",
   "execution_count": 8,
   "id": "377feb0a-771f-4f80-8b15-f15d68998a53",
   "metadata": {},
   "outputs": [
    {
     "data": {
      "text/plain": [
       "30047    394346.155999\n",
       "43103    324504.754447\n",
       "8973     313437.994226\n",
       "43278    280681.694853\n",
       "24152    252591.721969\n",
       "34790    237769.241598\n",
       "80812    184135.303565\n",
       "20841    177272.959496\n",
       "42738    158910.326631\n",
       "80978    131596.446350\n",
       "12926    116304.061299\n",
       "4000     115383.018273\n",
       "28110    107654.025741\n",
       "30282    104266.056269\n",
       "77583    103299.358386\n",
       "28111    102889.090650\n",
       "56895    101744.622383\n",
       "30284     99697.458185\n",
       "30283     98761.233481\n",
       "25854     96522.012281\n",
       "dtype: float64"
      ]
     },
     "execution_count": 8,
     "metadata": {},
     "output_type": "execute_result"
    }
   ],
   "source": [
    "# get top 20\n",
    "congu_yearly.iloc[:20]"
   ]
  },
  {
   "cell_type": "code",
   "execution_count": 9,
   "id": "8de6ddea-7783-4aac-8126-44c661b66dfb",
   "metadata": {},
   "outputs": [
    {
     "data": {
      "text/plain": [
       "68928    373657.604083\n",
       "15393    303701.815995\n",
       "30555    281390.617576\n",
       "24881    247248.211137\n",
       "16021    230037.781552\n",
       "23704    180174.114957\n",
       "23706    175545.612581\n",
       "23705    168633.291674\n",
       "43758    140073.225922\n",
       "40573    137532.438947\n",
       "64416    128007.277287\n",
       "67619    123810.944514\n",
       "81096    119635.455634\n",
       "6326     118930.565083\n",
       "26180    118487.715343\n",
       "81102    101291.989409\n",
       "12494    100483.167231\n",
       "26733    100414.824176\n",
       "33762     93631.609502\n",
       "28115     91816.959081\n",
       "dtype: float64"
      ]
     },
     "execution_count": 9,
     "metadata": {},
     "output_type": "execute_result"
    }
   ],
   "source": [
    "# get top 20\n",
    "congl_yearly.iloc[:20]"
   ]
  },
  {
   "cell_type": "code",
   "execution_count": 10,
   "id": "197d713b-309a-420b-9585-2c08909185ad",
   "metadata": {},
   "outputs": [
    {
     "data": {
      "text/plain": [
       "373657.604083"
      ]
     },
     "execution_count": 10,
     "metadata": {},
     "output_type": "execute_result"
    }
   ],
   "source": [
    "# get annual congestion on branch 68928,\n",
    "# which is close to MTEP16 MISO Market Efficiency Project.\n",
    "congl_yearly.at[68928]"
   ]
  },
  {
   "cell_type": "code",
   "execution_count": 11,
   "id": "93511bd5-b963-43d0-b757-461501bcb769",
   "metadata": {},
   "outputs": [
    {
     "data": {
      "text/plain": [
       "UTC\n",
       "2016-01-01 00:00:00    83.128237\n",
       "2016-01-01 01:00:00    82.795075\n",
       "2016-01-01 02:00:00    81.270021\n",
       "2016-01-01 03:00:00    80.950065\n",
       "2016-01-01 04:00:00    80.245885\n",
       "                         ...    \n",
       "2016-12-31 19:00:00     0.000000\n",
       "2016-12-31 20:00:00     0.000000\n",
       "2016-12-31 21:00:00     0.000000\n",
       "2016-12-31 22:00:00     0.000000\n",
       "2016-12-31 23:00:00     0.000000\n",
       "Freq: <pandas._libs.properties.CachedProperty object at 0x7f00f16a5200>, Name: 68928, Length: 8784, dtype: Sparse[float64, 0]"
      ]
     },
     "execution_count": 11,
     "metadata": {},
     "output_type": "execute_result"
    }
   ],
   "source": [
    "congl[68928] # get hourly congestion on branch 68928"
   ]
  },
  {
   "cell_type": "code",
   "execution_count": 12,
   "id": "11790792-8e66-4f25-92d6-be92a8b8c2e3",
   "metadata": {},
   "outputs": [
    {
     "data": {
      "text/plain": [
       "4775"
      ]
     },
     "execution_count": 12,
     "metadata": {},
     "output_type": "execute_result"
    }
   ],
   "source": [
    "congl[68928].astype(bool).sum(axis=0) # get annual total binding hours on 68928"
   ]
  },
  {
   "cell_type": "code",
   "execution_count": 13,
   "id": "aeadcc97-f984-4935-8c43-3a510368f0ec",
   "metadata": {
    "tags": []
   },
   "outputs": [
    {
     "data": {
      "text/plain": [
       "from_bus_id              54070\n",
       "to_bus_id                54057\n",
       "r                      0.05092\n",
       "x                     0.110111\n",
       "b                      0.00514\n",
       "rateA                    13.66\n",
       "rateB                      0.0\n",
       "rateC                      0.0\n",
       "ratio                      0.0\n",
       "angle                      0.0\n",
       "status                       1\n",
       "angmin                     0.0\n",
       "angmax                     0.0\n",
       "Pf                       -4.07\n",
       "Qf                         2.3\n",
       "Pt                        4.08\n",
       "Qt                       -2.83\n",
       "mu_Sf                      0.0\n",
       "mu_St                      0.0\n",
       "mu_angmin                  0.0\n",
       "mu_angmax                  0.0\n",
       "branch_device_type        Line\n",
       "interconnect           Eastern\n",
       "from_zone_id                39\n",
       "to_zone_id                  39\n",
       "from_zone_name            Iowa\n",
       "to_zone_name              Iowa\n",
       "from_lat               42.2985\n",
       "from_lon              -95.1204\n",
       "to_lat                 42.3388\n",
       "to_lon                -95.2962\n",
       "Name: 68928, dtype: object"
      ]
     },
     "execution_count": 13,
     "metadata": {},
     "output_type": "execute_result"
    }
   ],
   "source": [
    "grid.branch.loc[68928] # review information of branch 68928"
   ]
  },
  {
   "cell_type": "code",
   "execution_count": 14,
   "id": "9eadca4c-5c04-4123-8dec-2351a9cc6f02",
   "metadata": {},
   "outputs": [
    {
     "data": {
      "text/plain": [
       "type                  1\n",
       "Pd                 2.29\n",
       "Qd                 0.63\n",
       "Gs                  0.0\n",
       "Bs                  0.0\n",
       "zone_id              39\n",
       "Vm              1.03942\n",
       "Va              16.6199\n",
       "baseKV             69.0\n",
       "loss_zone             1\n",
       "Vmax                1.1\n",
       "Vmin                0.9\n",
       "lam_P             63.95\n",
       "lam_Q               0.0\n",
       "mu_Vmax             0.0\n",
       "mu_Vmin             0.0\n",
       "interconnect    Eastern\n",
       "lat             42.2985\n",
       "lon            -95.1204\n",
       "Name: 54070, dtype: object"
      ]
     },
     "execution_count": 14,
     "metadata": {},
     "output_type": "execute_result"
    }
   ],
   "source": [
    "grid.bus.loc[54070] # review from bus information of branch 68928"
   ]
  },
  {
   "cell_type": "code",
   "execution_count": 15,
   "id": "41268936-43ac-4809-862a-6be1466f06cc",
   "metadata": {},
   "outputs": [
    {
     "data": {
      "text/plain": [
       "type                  1\n",
       "Pd                  0.0\n",
       "Qd                  0.0\n",
       "Gs                  0.0\n",
       "Bs                  0.0\n",
       "zone_id              39\n",
       "Vm              1.03869\n",
       "Va              16.9273\n",
       "baseKV             69.0\n",
       "loss_zone             1\n",
       "Vmax                1.1\n",
       "Vmin                0.9\n",
       "lam_P             63.95\n",
       "lam_Q               0.0\n",
       "mu_Vmax             0.0\n",
       "mu_Vmin             0.0\n",
       "interconnect    Eastern\n",
       "lat             42.3388\n",
       "lon            -95.2962\n",
       "Name: 54057, dtype: object"
      ]
     },
     "execution_count": 15,
     "metadata": {},
     "output_type": "execute_result"
    }
   ],
   "source": [
    "grid.bus.loc[54057] # review to bus information of branch 68928"
   ]
  },
  {
   "cell_type": "markdown",
   "id": "c82a1a4c",
   "metadata": {},
   "source": [
    "### Retrive other types of output"
   ]
  },
  {
   "cell_type": "code",
   "execution_count": null,
   "id": "fa83a5c9",
   "metadata": {},
   "outputs": [
    {
     "name": "stdout",
     "output_type": "stream",
     "text": [
      "--> Loading PG\n",
      "--> Loading PF\n"
     ]
    }
   ],
   "source": [
    "pg = scenario.get_pg() # get hourly generation output on units\n",
    "pf_ac = scenario.get_pf() # get hourly power flow for AC lines\n",
    "pf_dc = scenario.get_dcline_pf() # get hourly power flow for DC lines\n",
    "lmp = scenario.get_lmp() # get hourly bus locational marginal price\n",
    "\n",
    "# not available for this scenario\n",
    "# e_storage = scenario.get_storage_e() # get energy state of charge of storage (if present in scenario)\n",
    "# pg_storage = scenario.get_storage_pg() # get generation profile for storage (if present in scenario)"
   ]
  }
 ],
 "metadata": {
  "kernelspec": {
   "display_name": "Python 3",
   "language": "python",
   "name": "python3"
  },
  "language_info": {
   "codemirror_mode": {
    "name": "ipython",
    "version": 3
   },
   "file_extension": ".py",
   "mimetype": "text/x-python",
   "name": "python",
   "nbconvert_exporter": "python",
   "pygments_lexer": "ipython3",
   "version": "3.8.3"
  },
  "toc-autonumbering": false,
  "toc-showcode": true,
  "toc-showmarkdowntxt": true,
  "toc-showtags": false
 },
 "nbformat": 4,
 "nbformat_minor": 5
}
