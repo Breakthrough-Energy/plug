{
 "cells": [
  {
   "cell_type": "markdown",
   "id": "2d8e5ead",
   "metadata": {},
   "source": [
    "### Basic usage\n",
    "First we need to import the `Scenario` class which will be the central point for managing a given.. scenario.\n",
    "Here's how to use it"
   ]
  },
  {
   "cell_type": "code",
   "execution_count": 1,
   "id": "d048cbb8",
   "metadata": {
    "tags": []
   },
   "outputs": [
    {
     "name": "stdout",
     "output_type": "stream",
     "text": [
      "SCENARIO: test | EasternBase_2020_3\n",
      "\n",
      "--> State\n",
      "analyze\n",
      "--> Loading grid\n",
      "Loading bus\n",
      "Loading plant\n",
      "Loading heat_rate_curve\n",
      "Loading gencost_before\n",
      "Loading gencost_after\n",
      "Loading branch\n",
      "Loading dcline\n",
      "Loading sub\n",
      "Loading bus2sub\n",
      "--> Loading ct\n"
     ]
    }
   ],
   "source": [
    "from powersimdata import Scenario\n",
    "scenario = Scenario(403)"
   ]
  },
  {
   "cell_type": "markdown",
   "id": "7ddf32bc",
   "metadata": {},
   "source": [
    "### Note on documentation\n",
    "See the [module index](https://breakthrough-energy.github.io/docs/py-modindex.html) on our docs website for a full listing of the code.\n",
    "There is also interactive help available:"
   ]
  },
  {
   "cell_type": "code",
   "execution_count": 2,
   "id": "23c50eac",
   "metadata": {},
   "outputs": [
    {
     "data": {
      "text/plain": [
       "\u001b[0;31mType:\u001b[0m           Scenario\n",
       "\u001b[0;31mString form:\u001b[0m    <powersimdata.scenario.scenario.Scenario object at 0x7fa6a01c7400>\n",
       "\u001b[0;31mFile:\u001b[0m           /PowerSimData/powersimdata/scenario/scenario.py\n",
       "\u001b[0;31mDocstring:\u001b[0m     \n",
       "Handles scenario.\n",
       "\n",
       ":param int/str descriptor: scenario name or index. If None, default to a Scenario\n",
       "    in Create state.\n",
       "\u001b[0;31mInit docstring:\u001b[0m Constructor.\n"
      ]
     },
     "metadata": {},
     "output_type": "display_data"
    }
   ],
   "source": [
    "# see the docstring\n",
    "scenario?"
   ]
  },
  {
   "cell_type": "code",
   "execution_count": 3,
   "id": "ac6eb077",
   "metadata": {},
   "outputs": [
    {
     "name": "stdout",
     "output_type": "stream",
     "text": [
      "--------------------\n",
      "SCENARIO INFORMATION\n",
      "--------------------\n",
      "id: 403\n",
      "plan: test\n",
      "name: EasternBase_2020_3\n",
      "state: analyze\n",
      "grid_model: usa_tamu\n",
      "interconnect: Eastern\n",
      "base_demand: vJan2021\n",
      "base_hydro: vJan2021\n",
      "base_solar: vJan2021\n",
      "base_wind: vJan2021\n",
      "change_table: Yes\n",
      "start_date: 2016-01-01 00:00:00\n",
      "end_date: 2016-12-31 23:00:00\n",
      "interval: 24H\n",
      "engine: REISE\n",
      "runtime: 18:21\n",
      "infeasibilities: \n"
     ]
    }
   ],
   "source": [
    "scenario.print_scenario_info()"
   ]
  },
  {
   "cell_type": "markdown",
   "id": "01e11ba2",
   "metadata": {
    "tags": []
   },
   "source": [
    "### Load base scenario grid data and results"
   ]
  },
  {
   "cell_type": "code",
   "execution_count": 4,
   "id": "7c5d407c",
   "metadata": {},
   "outputs": [
    {
     "name": "stdout",
     "output_type": "stream",
     "text": [
      "--> Loading LOAD_SHED\n",
      "--> Loading CONGU\n",
      "--> Loading CONGL\n"
     ]
    }
   ],
   "source": [
    "ct= scenario.get_ct()\n",
    "grid = scenario.get_grid()\n",
    "load_shed= scenario.get_load_shed()\n",
    "congu= scenario.get_congu() # get positive direction hourly branch congestion\n",
    "congl= scenario.get_congl() # get negative direction hourly branch congestion"
   ]
  },
  {
   "cell_type": "markdown",
   "id": "74d3a9ff",
   "metadata": {},
   "source": [
    "### Congestion analysis"
   ]
  },
  {
   "cell_type": "code",
   "execution_count": 14,
   "id": "a6c95ff3",
   "metadata": {},
   "outputs": [],
   "source": [
    "congu_yearly = (congu.sum(axis = 0)[congu.sum(axis = 0)!=0]).sort_values(ascending=False) # annual positive direction congestion\n",
    "congl_yearly = (congl.sum(axis = 0)[congl.sum(axis = 0)!=0]).sort_values(ascending=False) # annual negative direction congestion"
   ]
  },
  {
   "cell_type": "code",
   "execution_count": 15,
   "id": "197d713b-309a-420b-9585-2c08909185ad",
   "metadata": {},
   "outputs": [
    {
     "data": {
      "text/plain": [
       "373657.604083"
      ]
     },
     "execution_count": 15,
     "metadata": {},
     "output_type": "execute_result"
    }
   ],
   "source": [
    "congl_yearly.at[68928] # get annual congestion on branch 68928"
   ]
  },
  {
   "cell_type": "code",
   "execution_count": 16,
   "id": "93511bd5-b963-43d0-b757-461501bcb769",
   "metadata": {},
   "outputs": [
    {
     "data": {
      "text/plain": [
       "UTC\n",
       "2016-01-01 00:00:00    83.128237\n",
       "2016-01-01 01:00:00    82.795075\n",
       "2016-01-01 02:00:00    81.270021\n",
       "2016-01-01 03:00:00    80.950065\n",
       "2016-01-01 04:00:00    80.245885\n",
       "                         ...    \n",
       "2016-12-31 19:00:00     0.000000\n",
       "2016-12-31 20:00:00     0.000000\n",
       "2016-12-31 21:00:00     0.000000\n",
       "2016-12-31 22:00:00     0.000000\n",
       "2016-12-31 23:00:00     0.000000\n",
       "Freq: <pandas._libs.properties.CachedProperty object at 0x7fa6751228c0>, Name: 68928, Length: 8784, dtype: Sparse[float64, 0]"
      ]
     },
     "execution_count": 16,
     "metadata": {},
     "output_type": "execute_result"
    }
   ],
   "source": [
    "congl[68928] # get hourly congestion on branch 68928"
   ]
  },
  {
   "cell_type": "code",
   "execution_count": 17,
   "id": "11790792-8e66-4f25-92d6-be92a8b8c2e3",
   "metadata": {},
   "outputs": [
    {
     "data": {
      "text/plain": [
       "4775"
      ]
     },
     "execution_count": 17,
     "metadata": {},
     "output_type": "execute_result"
    }
   ],
   "source": [
    "congl[68928].astype(bool).sum(axis=0) # get annual total binding hours on 68928"
   ]
  },
  {
   "cell_type": "code",
   "execution_count": 18,
   "id": "aeadcc97-f984-4935-8c43-3a510368f0ec",
   "metadata": {
    "tags": []
   },
   "outputs": [
    {
     "data": {
      "text/plain": [
       "from_bus_id              54070\n",
       "to_bus_id                54057\n",
       "r                      0.05092\n",
       "x                     0.110111\n",
       "b                      0.00514\n",
       "rateA                    13.66\n",
       "rateB                      0.0\n",
       "rateC                      0.0\n",
       "ratio                      0.0\n",
       "angle                      0.0\n",
       "status                       1\n",
       "angmin                     0.0\n",
       "angmax                     0.0\n",
       "Pf                       -4.07\n",
       "Qf                         2.3\n",
       "Pt                        4.08\n",
       "Qt                       -2.83\n",
       "mu_Sf                      0.0\n",
       "mu_St                      0.0\n",
       "mu_angmin                  0.0\n",
       "mu_angmax                  0.0\n",
       "branch_device_type        Line\n",
       "interconnect           Eastern\n",
       "from_zone_id                39\n",
       "to_zone_id                  39\n",
       "from_zone_name            Iowa\n",
       "to_zone_name              Iowa\n",
       "from_lat               42.2985\n",
       "from_lon              -95.1204\n",
       "to_lat                 42.3388\n",
       "to_lon                -95.2962\n",
       "Name: 68928, dtype: object"
      ]
     },
     "execution_count": 18,
     "metadata": {},
     "output_type": "execute_result"
    }
   ],
   "source": [
    "grid.branch.loc[68928] # review information of branch 68928"
   ]
  },
  {
   "cell_type": "code",
   "execution_count": 19,
   "id": "9eadca4c-5c04-4123-8dec-2351a9cc6f02",
   "metadata": {},
   "outputs": [
    {
     "data": {
      "text/plain": [
       "type                  1\n",
       "Pd                 2.29\n",
       "Qd                 0.63\n",
       "Gs                  0.0\n",
       "Bs                  0.0\n",
       "zone_id              39\n",
       "Vm              1.03942\n",
       "Va              16.6199\n",
       "baseKV             69.0\n",
       "loss_zone             1\n",
       "Vmax                1.1\n",
       "Vmin                0.9\n",
       "lam_P             63.95\n",
       "lam_Q               0.0\n",
       "mu_Vmax             0.0\n",
       "mu_Vmin             0.0\n",
       "interconnect    Eastern\n",
       "lat             42.2985\n",
       "lon            -95.1204\n",
       "Name: 54070, dtype: object"
      ]
     },
     "execution_count": 19,
     "metadata": {},
     "output_type": "execute_result"
    }
   ],
   "source": [
    "grid.bus.loc[54070] # review from bus information of branch 68928"
   ]
  },
  {
   "cell_type": "code",
   "execution_count": 20,
   "id": "41268936-43ac-4809-862a-6be1466f06cc",
   "metadata": {},
   "outputs": [
    {
     "data": {
      "text/plain": [
       "type                  1\n",
       "Pd                  0.0\n",
       "Qd                  0.0\n",
       "Gs                  0.0\n",
       "Bs                  0.0\n",
       "zone_id              39\n",
       "Vm              1.03869\n",
       "Va              16.9273\n",
       "baseKV             69.0\n",
       "loss_zone             1\n",
       "Vmax                1.1\n",
       "Vmin                0.9\n",
       "lam_P             63.95\n",
       "lam_Q               0.0\n",
       "mu_Vmax             0.0\n",
       "mu_Vmin             0.0\n",
       "interconnect    Eastern\n",
       "lat             42.3388\n",
       "lon            -95.2962\n",
       "Name: 54057, dtype: object"
      ]
     },
     "execution_count": 20,
     "metadata": {},
     "output_type": "execute_result"
    }
   ],
   "source": [
    "grid.bus.loc[54057] # review to bus information of branch 68928"
   ]
  },
  {
   "cell_type": "markdown",
   "id": "c82a1a4c",
   "metadata": {},
   "source": [
    "### Retrive other types of output"
   ]
  },
  {
   "cell_type": "code",
   "execution_count": null,
   "id": "fa83a5c9",
   "metadata": {},
   "outputs": [
    {
     "name": "stdout",
     "output_type": "stream",
     "text": [
      "--> Loading PG\n",
      "--> Loading PF\n"
     ]
    }
   ],
   "source": [
    "pg = scenario.get_pg() # get hourly generation output on units\n",
    "pf_ac = scenario.get_pf() # get hourly power flow for AC lines\n",
    "pf_dc = scenario.get_dcline_pf() # get hourly power flow for DC lines\n",
    "lmp = scenario.get_lmp() # get hourly bus locational marginal price\n",
    "\n",
    "# not available for this scenario\n",
    "# e_storage = scenario.get_storage_e() # get energy state of charge of storage (if present in scenario)\n",
    "# pg_storage = scenario.get_storage_pg() # get generation profile for storage (if present in scenario)"
   ]
  }
 ],
 "metadata": {
  "kernelspec": {
   "display_name": "Python 3",
   "language": "python",
   "name": "python3"
  },
  "language_info": {
   "codemirror_mode": {
    "name": "ipython",
    "version": 3
   },
   "file_extension": ".py",
   "mimetype": "text/x-python",
   "name": "python",
   "nbconvert_exporter": "python",
   "pygments_lexer": "ipython3",
   "version": "3.8.3"
  },
  "toc-autonumbering": false,
  "toc-showcode": true,
  "toc-showmarkdowntxt": true,
  "toc-showtags": false
 },
 "nbformat": 4,
 "nbformat_minor": 5
}
