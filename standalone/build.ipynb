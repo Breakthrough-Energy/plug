{
 "cells": [
  {
   "cell_type": "markdown",
   "id": "c544013a-89a3-47dd-9693-d59a284a2bd8",
   "metadata": {},
   "source": [
    "### Create scenarios and upgrade congested transmission line"
   ]
  },
  {
   "cell_type": "code",
   "execution_count": 20,
   "id": "3e554c4d-e93f-4c95-8b0c-2f104300f645",
   "metadata": {},
   "outputs": [],
   "source": [
    "from powersimdata import Scenario"
   ]
  },
  {
   "cell_type": "code",
   "execution_count": 22,
   "id": "29600752-ed2d-44aa-91fe-3d3c5c6e3a21",
   "metadata": {},
   "outputs": [
    {
     "name": "stdout",
     "output_type": "stream",
     "text": [
      "--> Summary\n",
      "# Existing study\n",
      "test\n",
      "# Available profiles\n",
      "demand: vJan2021\n",
      "hydro: vJan2021\n",
      "solar: vJan2021\n",
      "wind: vJan2021\n"
     ]
    }
   ],
   "source": [
    "scenario = Scenario('')\n",
    "scenario.set_builder(grid_model=\"usa_tamu\", interconnect=\"Eastern\")\n",
    "scenario.set_name(\"MISONC_MTEP16_MEP\", \"training\")\n",
    "scenario.set_time(\"2016-01-01 00:00:00\",\"2016-01-31 23:00:00\",\"24H\")\n",
    "scenario.set_base_profile(\"demand\", \"vJan2021\")\n",
    "scenario.set_base_profile(\"hydro\", \"vJan2021\")\n",
    "scenario.set_base_profile(\"solar\", \"vJan2021\")\n",
    "scenario.set_base_profile(\"wind\", \"vJan2021\")\n",
    "\n",
    "# Upgrade the congested branch 68928 from 13.66MVA RateA to 236MW, which is a 17.28-time increase. Impedance will be automatically reduced proportionally.\n",
    "scenario.change_table.scale_branch_capacity(branch_id = {68928: 17.28})\n",
    "\n",
    "grid = scenario.get_grid()\n",
    "ct = scenario.get_ct()"
   ]
  },
  {
   "cell_type": "code",
   "execution_count": 23,
   "id": "0726bb4a-af6f-4e49-bfc1-2d42bdc231cc",
   "metadata": {},
   "outputs": [
    {
     "data": {
      "text/plain": [
       "\u001b[0;31mType:\u001b[0m           ChangeTable\n",
       "\u001b[0;31mString form:\u001b[0m    <powersimdata.input.change_table.ChangeTable object at 0x7f2798765580>\n",
       "\u001b[0;31mFile:\u001b[0m           /PowerSimData/powersimdata/input/change_table.py\n",
       "\u001b[0;31mDocstring:\u001b[0m     \n",
       "Create change table for changes that need to be applied to the original\n",
       "grid as well as to the original demand, hydro, solar and wind profiles.\n",
       "A pickle file enclosing the change table in form of a dictionary can be\n",
       "created and transferred on the server. Keys are *'demand'*, *'branch'*, *'dcline'*,\n",
       "'*new_branch*', *'new_dcline'*, *'new_plant'*, *'storage'*,\n",
       "*'[resource]'*, *'[resource]_cost'*, and *'[resource]_pmin'*,; where 'resource'\n",
       "is one of: {*'biomass'*, *'coal'*, *'dfo'*, *'geothermal'*, *'ng'*, *'nuclear'*,\n",
       "*'hydro'*, *'solar'*, *'wind'*, *'wind_offshore'*, *'other'*}.\n",
       "If a key is missing in the dictionary, then no changes will be applied.\n",
       "The data structure is given below:\n",
       "\n",
       "* *'demand'*:\n",
       "    value is a dictionary. The latter has *'zone_id'* as keys and a\n",
       "    factor indicating the desired increase/decrease of load in zone\n",
       "    (1.2 would correspond to a 20% increase while 0.95 would be a 5%\n",
       "    decrease) as value.\n",
       "* *'branch'*:\n",
       "    value is a dictionary. The latter has *'branch_id'* and/or\n",
       "    *'zone_id'* as keys. The *'branch_id'* dictionary has the branch\n",
       "    ids as keys while the *'zone_id'* dictionary has the zone ids as\n",
       "    keys. The value of those dictionaries is a factor indicating the\n",
       "    desired increase/decrease of capacity of the line or the lines in\n",
       "    the zone (1.2 would correspond to a 20% increase while 0.95 would\n",
       "    be a 5% decrease).\n",
       "* *'[resource]'*:\n",
       "    value is a dictionary. The latter has *'plant_id'* and/or\n",
       "    *'zone_id'* as keys. The *'plant_id'* dictionary has the plant ids\n",
       "    as keys while the *'zone_id'* dictionary has the zone ids as keys.\n",
       "    The value of those dictionaries is a factor indicating the desired\n",
       "    increase/decrease of capacity of the plant or plants in the zone fueled by\n",
       "    *'[resource]'* (1.2 would correspond to a 20% increase while 0.95 would be\n",
       "    a 5% decrease).\n",
       "* *'[resource]_cost'*:\n",
       "    value is a dictionary. The latter has *'plant_id'* and/or\n",
       "    *'zone_id'* as keys. The *'plant_id'* dictionary has the plant ids\n",
       "    as keys while the *'zone_id'* dictionary has the zone ids as keys.\n",
       "    The value of those dictionaries is a factor indicating the desired\n",
       "    increase/decrease of cost of the plant or plants in the zone fueled by\n",
       "    *'[resource]'* (1.2 would correspond to a 20% increase while 0.95 would be\n",
       "    a 5% decrease).\n",
       "* *'[resource]_pmin*:\n",
       "    value is a dictionary. The latter has *'plant_id'* and/or\n",
       "    *'zone_id'* as keys. The *'plant_id'* dictionary has the plant ids\n",
       "    as keys while the *'zone_id'* dictionary has the zone ids as keys.\n",
       "    The value of those dictionaries is a factor indicating the desired\n",
       "    increase/decrease of minimum generation of the plant or plants in the zone\n",
       "    fueled by *'[resource]'* (1.2 would correspond to a 20% increase while\n",
       "    0.95 would be a 5% decrease).\n",
       "* *'dcline'*:\n",
       "    value is a dictionary. The latter has *'dcline_id'* as keys and\n",
       "    the and the scaling factor for the increase/decrease in capacity\n",
       "    of the line as value.\n",
       "* *'storage'*:\n",
       "    value is a dictionary. The latter has *'bus_id'* as keys and the\n",
       "    capacity of storage (in MW) to add as value.\n",
       "* *'new_dcline'*:\n",
       "    value is a list. Each entry in this list is a dictionary enclosing\n",
       "    all the information needed to add a new dcline to the grid. The\n",
       "    keys in the dictionary are: *'capacity'*, *'from_bus_id'* and\n",
       "    *'to_bus_id'* with values giving the capacity of the HVDC line and\n",
       "    the bus id at each end of the line.\n",
       "* *'new_branch'*:\n",
       "    value is a list. Each entry in this list is a dictionary enclosing\n",
       "    all the information needed to add a new branch to the grid. The\n",
       "    keys in the dictionary are: *'capacity'*, *'from_bus_id'* and\n",
       "    *'to_bus_id'* with values giving the capacity of the line and\n",
       "    the bus id at each end of the line.\n",
       "* *'new_plant'*:\n",
       "    value is a list. Each entry in this list is a dictionary enclosing\n",
       "    all the information needed to add a new generator to the grid. The\n",
       "    keys in the dictionary are *'type'*, *'bus_id'*, *'Pmax'* for\n",
       "    renewable generators and *'type'*, *'bus_id'*, *'Pmax'*, *'c0'*,\n",
       "    *'c1'*, *'c2'* for thermal generators. An optional *'Pmin'* can be\n",
       "    passed for both renewable and thermal generators. The values give\n",
       "    the fuel type, the identification number of the bus, the maximum\n",
       "    capacity of the generator, the coefficients of the cost curve\n",
       "    (polynomials) and optionally the minimum capacity of the generator.\n",
       "* *'new_bus'*:\n",
       "    value is a list. Each entry in this list is a dictionary enclosing\n",
       "    all the information needed to add a new bus to the grid. The\n",
       "    keys in the dictionary are: *'lat'*, *'lon'*, one of *'zone_id'*/*'zone_name'*,\n",
       "    and optionally *'Pd'*, specifying the location of the bus, the demand zone, and\n",
       "    optionally the nominal demand at that bus (defaults to 0).\n",
       "\u001b[0;31mInit docstring:\u001b[0m\n",
       "Constructor.\n",
       "\n",
       ":param powersimdata.input.grid.Grid grid: a Grid object\n"
      ]
     },
     "metadata": {},
     "output_type": "display_data"
    }
   ],
   "source": [
    "scenario.change_table?"
   ]
  },
  {
   "cell_type": "code",
   "execution_count": 26,
   "id": "37ea865d-d2f7-4bd3-a205-219c59ed805f",
   "metadata": {},
   "outputs": [
    {
     "data": {
      "text/plain": [
       "['_add_line',\n",
       " '_add_plant_entries',\n",
       " '_check_entry_keys',\n",
       " '_check_resource',\n",
       " '_check_zone',\n",
       " '_get_new_bus',\n",
       " '_get_plant_id',\n",
       " 'add_branch',\n",
       " 'add_bus',\n",
       " 'add_dcline',\n",
       " 'add_plant',\n",
       " 'add_storage_capacity',\n",
       " 'clear',\n",
       " 'ct',\n",
       " 'grid',\n",
       " 'new_bus_cache',\n",
       " 'scale_branch_capacity',\n",
       " 'scale_congested_mesh_branches',\n",
       " 'scale_dcline_capacity',\n",
       " 'scale_demand',\n",
       " 'scale_plant_capacity',\n",
       " 'scale_plant_cost',\n",
       " 'scale_plant_pmin',\n",
       " 'scale_renewable_stubs',\n",
       " 'write']"
      ]
     },
     "execution_count": 26,
     "metadata": {},
     "output_type": "execute_result"
    }
   ],
   "source": [
    "[x for x in dir(scenario.change_table) if \"__\" not in x]"
   ]
  },
  {
   "cell_type": "code",
   "execution_count": 28,
   "id": "8e106980-67f2-4a2c-856b-498a00558221",
   "metadata": {},
   "outputs": [],
   "source": [
    "x = scenario.change_table"
   ]
  },
  {
   "cell_type": "code",
   "execution_count": 29,
   "id": "6bf3f1f2-423b-462a-af87-8c54386a7c2b",
   "metadata": {},
   "outputs": [
    {
     "data": {
      "text/plain": [
       "\u001b[0;31mSignature:\u001b[0m \u001b[0mx\u001b[0m\u001b[0;34m.\u001b[0m\u001b[0madd_branch\u001b[0m\u001b[0;34m(\u001b[0m\u001b[0minfo\u001b[0m\u001b[0;34m)\u001b[0m\u001b[0;34m\u001b[0m\u001b[0;34m\u001b[0m\u001b[0m\n",
       "\u001b[0;31mDocstring:\u001b[0m\n",
       "Sets parameters of new branch(es) in change table.\n",
       "\n",
       ":param list info: each entry is a dictionary. The dictionary gathers\n",
       "    the information needed to create a new branch.\n",
       ":raises TypeError: if info is not a list.\n",
       "\u001b[0;31mFile:\u001b[0m      /PowerSimData/powersimdata/input/change_table.py\n",
       "\u001b[0;31mType:\u001b[0m      method\n"
      ]
     },
     "metadata": {},
     "output_type": "display_data"
    }
   ],
   "source": [
    "x.add_branch?"
   ]
  },
  {
   "cell_type": "code",
   "execution_count": 30,
   "id": "77971937-cefc-46a4-8fed-9c6869fd8862",
   "metadata": {},
   "outputs": [
    {
     "data": {
      "text/plain": [
       "\u001b[0;31mSignature:\u001b[0m \u001b[0mx\u001b[0m\u001b[0;34m.\u001b[0m\u001b[0madd_bus\u001b[0m\u001b[0;34m(\u001b[0m\u001b[0minfo\u001b[0m\u001b[0;34m)\u001b[0m\u001b[0;34m\u001b[0m\u001b[0;34m\u001b[0m\u001b[0m\n",
       "\u001b[0;31mDocstring:\u001b[0m\n",
       "Sets parameters of new bus(es) in change table.\n",
       "\n",
       ":param list info: each entry is a dictionary. The dictionary gathers\n",
       "    the information needed to create a new bus.\n",
       "    Required keys: \"lat\", \"lon\", [\"zone_id\" XOR \"zone_name\"].\n",
       "    Optional key: \"Pd\", \"baseKV\".\n",
       ":raises TypeError: if info is not a list.\n",
       ":raises ValueError: if any new bus doesn't have appropriate keys/values.\n",
       "\u001b[0;31mFile:\u001b[0m      /PowerSimData/powersimdata/input/change_table.py\n",
       "\u001b[0;31mType:\u001b[0m      method\n"
      ]
     },
     "metadata": {},
     "output_type": "display_data"
    }
   ],
   "source": [
    "x.add_bus?"
   ]
  },
  {
   "cell_type": "code",
   "execution_count": 31,
   "id": "4f2fe001-1086-429b-97d4-33541e0d19ac",
   "metadata": {},
   "outputs": [
    {
     "data": {
      "text/plain": [
       "\u001b[0;31mSignature:\u001b[0m \u001b[0mx\u001b[0m\u001b[0;34m.\u001b[0m\u001b[0madd_dcline\u001b[0m\u001b[0;34m(\u001b[0m\u001b[0minfo\u001b[0m\u001b[0;34m)\u001b[0m\u001b[0;34m\u001b[0m\u001b[0;34m\u001b[0m\u001b[0m\n",
       "\u001b[0;31mDocstring:\u001b[0m\n",
       "Adds HVDC line(s).\n",
       "\n",
       ":param list info: each entry is a dictionary. The dictionary gathers\n",
       "    the information needed to create a new dcline.\n",
       ":raises TypeError: if info is not a list.\n",
       "\u001b[0;31mFile:\u001b[0m      /PowerSimData/powersimdata/input/change_table.py\n",
       "\u001b[0;31mType:\u001b[0m      method\n"
      ]
     },
     "metadata": {},
     "output_type": "display_data"
    }
   ],
   "source": [
    "x.add_dcline?"
   ]
  },
  {
   "cell_type": "code",
   "execution_count": 32,
   "id": "269714d5-825c-48f6-98c9-c510f0c6ce85",
   "metadata": {},
   "outputs": [
    {
     "data": {
      "text/plain": [
       "\u001b[0;31mSignature:\u001b[0m \u001b[0mx\u001b[0m\u001b[0;34m.\u001b[0m\u001b[0madd_plant\u001b[0m\u001b[0;34m(\u001b[0m\u001b[0minfo\u001b[0m\u001b[0;34m)\u001b[0m\u001b[0;34m\u001b[0m\u001b[0;34m\u001b[0m\u001b[0m\n",
       "\u001b[0;31mDocstring:\u001b[0m\n",
       "Sets parameters of new generator(s) in change table.\n",
       "\n",
       ":param list info: each entry is a dictionary. The dictionary gathers\n",
       "    the information needed to create a new generator.\n",
       ":raises TypeError: if info is not a list.\n",
       ":raises ValueError: if any of the new plants to be added have bad values.\n",
       "\u001b[0;31mFile:\u001b[0m      /PowerSimData/powersimdata/input/change_table.py\n",
       "\u001b[0;31mType:\u001b[0m      method\n"
      ]
     },
     "metadata": {},
     "output_type": "display_data"
    }
   ],
   "source": [
    "x.add_plant?"
   ]
  },
  {
   "cell_type": "code",
   "execution_count": 33,
   "id": "744c01dc-cfb0-47ba-86ac-faafccf62f74",
   "metadata": {},
   "outputs": [
    {
     "data": {
      "text/plain": [
       "\u001b[0;31mSignature:\u001b[0m \u001b[0mx\u001b[0m\u001b[0;34m.\u001b[0m\u001b[0madd_storage_capacity\u001b[0m\u001b[0;34m(\u001b[0m\u001b[0minfo\u001b[0m\u001b[0;34m)\u001b[0m\u001b[0;34m\u001b[0m\u001b[0;34m\u001b[0m\u001b[0m\n",
       "\u001b[0;31mDocstring:\u001b[0m\n",
       "Sets storage parameters in change table.\n",
       "\n",
       ":param list info: each entry is a dictionary. The dictionary gathers\n",
       "    the information needed to create a new storage device.\n",
       ":raises TypeError: if info is not a list.\n",
       ":raises ValueError: if any of the new storages to be added have bad values.\n",
       "\u001b[0;31mFile:\u001b[0m      /PowerSimData/powersimdata/input/change_table.py\n",
       "\u001b[0;31mType:\u001b[0m      method\n"
      ]
     },
     "metadata": {},
     "output_type": "display_data"
    }
   ],
   "source": [
    "x.add_storage_capacity?"
   ]
  },
  {
   "cell_type": "code",
   "execution_count": 34,
   "id": "ed179d8f-75b2-4a3a-a6eb-8f33894a31dd",
   "metadata": {},
   "outputs": [
    {
     "data": {
      "text/plain": [
       "\u001b[0;31mSignature:\u001b[0m \u001b[0mx\u001b[0m\u001b[0;34m.\u001b[0m\u001b[0mclear\u001b[0m\u001b[0;34m(\u001b[0m\u001b[0mwhich\u001b[0m\u001b[0;34m=\u001b[0m\u001b[0;32mNone\u001b[0m\u001b[0;34m)\u001b[0m\u001b[0;34m\u001b[0m\u001b[0;34m\u001b[0m\u001b[0m\n",
       "\u001b[0;31mDocstring:\u001b[0m\n",
       "Clear all or part of the change table.\n",
       "\n",
       ":param str/set which: str or set of strings of what to clear from self.ct\n",
       "    If None (default), everything is cleared.\n",
       "\u001b[0;31mFile:\u001b[0m      /PowerSimData/powersimdata/input/change_table.py\n",
       "\u001b[0;31mType:\u001b[0m      method\n"
      ]
     },
     "metadata": {},
     "output_type": "display_data"
    }
   ],
   "source": [
    "x.clear?"
   ]
  },
  {
   "cell_type": "code",
   "execution_count": 35,
   "id": "2a6d9228-d414-429e-b34e-4bfcc08f2d03",
   "metadata": {},
   "outputs": [
    {
     "data": {
      "text/plain": [
       "\u001b[0;31mType:\u001b[0m        dict\n",
       "\u001b[0;31mString form:\u001b[0m {}\n",
       "\u001b[0;31mLength:\u001b[0m      0\n",
       "\u001b[0;31mDocstring:\u001b[0m  \n",
       "dict() -> new empty dictionary\n",
       "dict(mapping) -> new dictionary initialized from a mapping object's\n",
       "    (key, value) pairs\n",
       "dict(iterable) -> new dictionary initialized as if via:\n",
       "    d = {}\n",
       "    for k, v in iterable:\n",
       "        d[k] = v\n",
       "dict(**kwargs) -> new dictionary initialized with the name=value pairs\n",
       "    in the keyword argument list.  For example:  dict(one=1, two=2)\n"
      ]
     },
     "metadata": {},
     "output_type": "display_data"
    }
   ],
   "source": [
    "x.new_bus_cache?"
   ]
  },
  {
   "cell_type": "code",
   "execution_count": 36,
   "id": "2ee134bc-6735-4de6-898b-faa635f321de",
   "metadata": {},
   "outputs": [
    {
     "data": {
      "text/plain": [
       "\u001b[0;31mSignature:\u001b[0m \u001b[0mx\u001b[0m\u001b[0;34m.\u001b[0m\u001b[0mscale_branch_capacity\u001b[0m\u001b[0;34m(\u001b[0m\u001b[0mzone_name\u001b[0m\u001b[0;34m=\u001b[0m\u001b[0;32mNone\u001b[0m\u001b[0;34m,\u001b[0m \u001b[0mbranch_id\u001b[0m\u001b[0;34m=\u001b[0m\u001b[0;32mNone\u001b[0m\u001b[0;34m)\u001b[0m\u001b[0;34m\u001b[0m\u001b[0;34m\u001b[0m\u001b[0m\n",
       "\u001b[0;31mDocstring:\u001b[0m\n",
       "Sets branch capacity scaling factor in change table.\n",
       "\n",
       ":param dict zone_name: load zones. The key(s) is (are) the name of the\n",
       "    load zone(s) and the associated value is the scaling factor for\n",
       "    the increase/decrease in capacity of all the branches in the load\n",
       "    zone. Only lines that have both ends in zone are considered.\n",
       ":param dict branch_id: identification numbers of branches. The key(s)\n",
       "    is (are) the id of the line(s) and the associated value is the\n",
       "    scaling factor for the increase/decrease in capacity of the line(s).\n",
       "\u001b[0;31mFile:\u001b[0m      /PowerSimData/powersimdata/input/change_table.py\n",
       "\u001b[0;31mType:\u001b[0m      method\n"
      ]
     },
     "metadata": {},
     "output_type": "display_data"
    }
   ],
   "source": [
    "x.scale_branch_capacity?"
   ]
  },
  {
   "cell_type": "code",
   "execution_count": 37,
   "id": "7ff5865c-f336-417b-b118-324848d23c18",
   "metadata": {},
   "outputs": [
    {
     "data": {
      "text/plain": [
       "\u001b[0;31mSignature:\u001b[0m \u001b[0mx\u001b[0m\u001b[0;34m.\u001b[0m\u001b[0mscale_congested_mesh_branches\u001b[0m\u001b[0;34m(\u001b[0m\u001b[0mref_scenario\u001b[0m\u001b[0;34m,\u001b[0m \u001b[0;34m**\u001b[0m\u001b[0mkwargs\u001b[0m\u001b[0;34m)\u001b[0m\u001b[0;34m\u001b[0m\u001b[0;34m\u001b[0m\u001b[0m\n",
       "\u001b[0;31mDocstring:\u001b[0m\n",
       "Scales congested branches based on previous scenario results.\n",
       "\n",
       ":param powersimdata.scenario.scenario.Scenario ref_scenario: the\n",
       "    reference scenario to be used in determining branch scaling.\n",
       "\n",
       "Optional kwargs as documented in the\n",
       "    :mod:`powersimdata.design.transmission.upgrade` module.\n",
       "\u001b[0;31mFile:\u001b[0m      /PowerSimData/powersimdata/input/change_table.py\n",
       "\u001b[0;31mType:\u001b[0m      method\n"
      ]
     },
     "metadata": {},
     "output_type": "display_data"
    }
   ],
   "source": [
    "x.scale_congested_mesh_branches?"
   ]
  },
  {
   "cell_type": "code",
   "execution_count": 38,
   "id": "26bb030c-55a7-45ab-b78b-3e4af3cec589",
   "metadata": {},
   "outputs": [
    {
     "data": {
      "text/plain": [
       "\u001b[0;31mSignature:\u001b[0m \u001b[0mx\u001b[0m\u001b[0;34m.\u001b[0m\u001b[0mscale_dcline_capacity\u001b[0m\u001b[0;34m(\u001b[0m\u001b[0mdcline_id\u001b[0m\u001b[0;34m)\u001b[0m\u001b[0;34m\u001b[0m\u001b[0;34m\u001b[0m\u001b[0m\n",
       "\u001b[0;31mDocstring:\u001b[0m\n",
       "Sets DC line capacity scaling factor in change table.\n",
       "\n",
       ":param dict dcline_id: identification numbers of dc line. The key(s) is\n",
       "    (are) the id of the line(s) and the associated value is the scaling\n",
       "    factor for the increase/decrease in capacity of the line(s).\n",
       "\u001b[0;31mFile:\u001b[0m      /PowerSimData/powersimdata/input/change_table.py\n",
       "\u001b[0;31mType:\u001b[0m      method\n"
      ]
     },
     "metadata": {},
     "output_type": "display_data"
    }
   ],
   "source": [
    "x.scale_dcline_capacity?"
   ]
  },
  {
   "cell_type": "code",
   "execution_count": 39,
   "id": "c0d27c39-7362-493a-9902-5d3e34597dd9",
   "metadata": {},
   "outputs": [
    {
     "data": {
      "text/plain": [
       "\u001b[0;31mSignature:\u001b[0m \u001b[0mx\u001b[0m\u001b[0;34m.\u001b[0m\u001b[0mscale_demand\u001b[0m\u001b[0;34m(\u001b[0m\u001b[0mzone_name\u001b[0m\u001b[0;34m=\u001b[0m\u001b[0;32mNone\u001b[0m\u001b[0;34m,\u001b[0m \u001b[0mzone_id\u001b[0m\u001b[0;34m=\u001b[0m\u001b[0;32mNone\u001b[0m\u001b[0;34m)\u001b[0m\u001b[0;34m\u001b[0m\u001b[0;34m\u001b[0m\u001b[0m\n",
       "\u001b[0;31mDocstring:\u001b[0m\n",
       "Sets load scaling factor in change table.\n",
       "\n",
       ":param dict zone_name: load zones. The key(s) is (are) the name of the\n",
       "    load zone(s) and the value is the scaling factor for the\n",
       "    increase/decrease in load.\n",
       ":param dict zone_id: identification numbers of the load zones. The\n",
       "    key(s) is (are) the id of the zone(s) and the associated value is\n",
       "    the scaling factor for the increase/decrease in load.\n",
       "\u001b[0;31mFile:\u001b[0m      /PowerSimData/powersimdata/input/change_table.py\n",
       "\u001b[0;31mType:\u001b[0m      method\n"
      ]
     },
     "metadata": {},
     "output_type": "display_data"
    }
   ],
   "source": [
    "x.scale_demand?"
   ]
  },
  {
   "cell_type": "code",
   "execution_count": 40,
   "id": "e9234b6b-270e-4b5e-af13-62809c01e635",
   "metadata": {},
   "outputs": [
    {
     "data": {
      "text/plain": [
       "\u001b[0;31mSignature:\u001b[0m \u001b[0mx\u001b[0m\u001b[0;34m.\u001b[0m\u001b[0mscale_plant_capacity\u001b[0m\u001b[0;34m(\u001b[0m\u001b[0mresource\u001b[0m\u001b[0;34m,\u001b[0m \u001b[0mzone_name\u001b[0m\u001b[0;34m=\u001b[0m\u001b[0;32mNone\u001b[0m\u001b[0;34m,\u001b[0m \u001b[0mplant_id\u001b[0m\u001b[0;34m=\u001b[0m\u001b[0;32mNone\u001b[0m\u001b[0;34m)\u001b[0m\u001b[0;34m\u001b[0m\u001b[0;34m\u001b[0m\u001b[0m\n",
       "\u001b[0;31mDocstring:\u001b[0m\n",
       "Sets plant capacity scaling factor in change table.\n",
       "\n",
       ":param str resource: type of generator to consider.\n",
       ":param dict zone_name: load zones. The key(s) is (are) the name of the\n",
       "    load zone(s) and the associated value is the scaling factor for the\n",
       "    increase/decrease in capacity of all the generators fueled by\n",
       "    specified resource in the load zone.\n",
       ":param dict plant_id: identification numbers of plants. The key(s) is\n",
       "    (are) the id of the plant(s) and the associated value is the\n",
       "    scaling factor for the increase/decrease in capacity of the\n",
       "    generator.\n",
       "\u001b[0;31mFile:\u001b[0m      /PowerSimData/powersimdata/input/change_table.py\n",
       "\u001b[0;31mType:\u001b[0m      method\n"
      ]
     },
     "metadata": {},
     "output_type": "display_data"
    }
   ],
   "source": [
    "x.scale_plant_capacity?"
   ]
  },
  {
   "cell_type": "code",
   "execution_count": 41,
   "id": "c1baba6c-f420-4ea7-83d0-4fd0ae7cd861",
   "metadata": {},
   "outputs": [
    {
     "data": {
      "text/plain": [
       "\u001b[0;31mSignature:\u001b[0m \u001b[0mx\u001b[0m\u001b[0;34m.\u001b[0m\u001b[0mscale_plant_cost\u001b[0m\u001b[0;34m(\u001b[0m\u001b[0mresource\u001b[0m\u001b[0;34m,\u001b[0m \u001b[0mzone_name\u001b[0m\u001b[0;34m=\u001b[0m\u001b[0;32mNone\u001b[0m\u001b[0;34m,\u001b[0m \u001b[0mplant_id\u001b[0m\u001b[0;34m=\u001b[0m\u001b[0;32mNone\u001b[0m\u001b[0;34m)\u001b[0m\u001b[0;34m\u001b[0m\u001b[0;34m\u001b[0m\u001b[0m\n",
       "\u001b[0;31mDocstring:\u001b[0m\n",
       "Sets plant cost scaling factor in change table.\n",
       "\n",
       ":param str resource: type of generator to consider.\n",
       ":param dict zone_name: load zones. The key(s) is (are) the name of the\n",
       "    load zone(s) and the associated value is the scaling factor for the\n",
       "    increase/decrease in cost of all the generators fueled by\n",
       "    specified resource in the load zone.\n",
       ":param dict plant_id: identification numbers of plants. The key(s) is\n",
       "    (are) the id of the plant(s) and the associated value is the\n",
       "    scaling factor for the increase/decrease in cost of the\n",
       "    generator.\n",
       "\u001b[0;31mFile:\u001b[0m      /PowerSimData/powersimdata/input/change_table.py\n",
       "\u001b[0;31mType:\u001b[0m      method\n"
      ]
     },
     "metadata": {},
     "output_type": "display_data"
    }
   ],
   "source": [
    "x.scale_plant_cost?"
   ]
  },
  {
   "cell_type": "code",
   "execution_count": 42,
   "id": "0be89772-d5c9-458a-bdd5-413d0f8fc658",
   "metadata": {},
   "outputs": [
    {
     "data": {
      "text/plain": [
       "\u001b[0;31mSignature:\u001b[0m \u001b[0mx\u001b[0m\u001b[0;34m.\u001b[0m\u001b[0mscale_plant_pmin\u001b[0m\u001b[0;34m(\u001b[0m\u001b[0mresource\u001b[0m\u001b[0;34m,\u001b[0m \u001b[0mzone_name\u001b[0m\u001b[0;34m=\u001b[0m\u001b[0;32mNone\u001b[0m\u001b[0;34m,\u001b[0m \u001b[0mplant_id\u001b[0m\u001b[0;34m=\u001b[0m\u001b[0;32mNone\u001b[0m\u001b[0;34m)\u001b[0m\u001b[0;34m\u001b[0m\u001b[0;34m\u001b[0m\u001b[0m\n",
       "\u001b[0;31mDocstring:\u001b[0m\n",
       "Sets plant cost scaling factor in change table.\n",
       "\n",
       ":param str resource: type of generator to consider.\n",
       ":param dict zone_name: load zones. The key(s) is (are) the name of the\n",
       "    load zone(s) and the associated value is the scaling factor for the\n",
       "    minimum generation for all generators fueled by\n",
       "    specified resource in the load zone.\n",
       ":param dict plant_id: identification numbers of plants. The key(s) is\n",
       "    (are) the id of the plant(s) and the associated value is the\n",
       "    scaling factor for the minimum generation of the generator.\n",
       "\u001b[0;31mFile:\u001b[0m      /PowerSimData/powersimdata/input/change_table.py\n",
       "\u001b[0;31mType:\u001b[0m      method\n"
      ]
     },
     "metadata": {},
     "output_type": "display_data"
    }
   ],
   "source": [
    "x.scale_plant_pmin?"
   ]
  },
  {
   "cell_type": "code",
   "execution_count": 43,
   "id": "ac0e3ff1-243c-4ead-adc6-bba6b6f2480c",
   "metadata": {},
   "outputs": [
    {
     "data": {
      "text/plain": [
       "\u001b[0;31mSignature:\u001b[0m \u001b[0mx\u001b[0m\u001b[0;34m.\u001b[0m\u001b[0mscale_renewable_stubs\u001b[0m\u001b[0;34m(\u001b[0m\u001b[0;34m**\u001b[0m\u001b[0mkwargs\u001b[0m\u001b[0;34m)\u001b[0m\u001b[0;34m\u001b[0m\u001b[0;34m\u001b[0m\u001b[0m\n",
       "\u001b[0;31mDocstring:\u001b[0m\n",
       "Scales undersized stub branches connected to renewable generators.\n",
       "\n",
       "Optional kwargs as documented in the\n",
       "    :mod:`powersimdata.design.transmission.upgrade` module.\n",
       "\u001b[0;31mFile:\u001b[0m      /PowerSimData/powersimdata/input/change_table.py\n",
       "\u001b[0;31mType:\u001b[0m      method\n"
      ]
     },
     "metadata": {},
     "output_type": "display_data"
    }
   ],
   "source": [
    "x.scale_renewable_stubs?"
   ]
  },
  {
   "cell_type": "markdown",
   "id": "ee642841-4eda-4fa7-aafe-eaa7d59d87b8",
   "metadata": {},
   "source": [
    "### Use the change table to modify conditions"
   ]
  },
  {
   "cell_type": "code",
   "execution_count": 12,
   "id": "bffbc560-e78d-4460-a8ac-170822a537a3",
   "metadata": {},
   "outputs": [],
   "source": [
    "scenario.change_table.scale_plant_capacity(\n",
    "    \"solar\", zone_name={\"Arkansas\": 5, \"Louisiana\": 2.5})\n",
    "scenario.change_table.scale_plant_capacity(\n",
    "    \"wind\", zone_name={\"Iowa\": 1.5, \"Minnesota Southern\": 2})\n",
    "scenario.change_table.scale_branch_capacity(\n",
    "    zone_name={\"Iowa\": 2, \"Minnesota Southern\": 2})\n",
    "\n",
    "# add AC line between two busses in IA\n",
    "scenario.change_table.add_branch(\n",
    "    [{\"capacity\": 236, \"from_bus_id\": 54070, \"to_bus_id\": 54057}])\n",
    "\n",
    "# add DC line between central IA and Chicago, IL\n",
    "scenario.change_table.add_dcline(\n",
    "    [{\"capacity\": 2000, \"from_bus_id\":55119, \"to_bus_id\": 1213}])\n",
    "\n",
    "# add a solar plant in AK, a coal plant in IA and a natural gas plant in LA\n",
    "scenario.change_table.add_plant(\n",
    "    [{\"type\": \"solar\", \"bus_id\": 1899, \"Pmax\": 75},\n",
    "     {\"type\": \"coal\", \"bus_id\": 54070, \"Pmin\": 25, \"Pmax\": 750, \"c0\": 1800, \"c1\": 30, \"c2\": 0.0025},\n",
    "     {\"type\": \"ng\", \"bus_id\": 60911, \"Pmax\": 75, \"c0\": 900, \"c1\": 30, \"c2\": 0.0015}])\n",
    "\n",
    "# add a new bus, and a new one-way DC line connected to this bus\n",
    "scenario.change_table.add_bus(\n",
    "\t[{\"lat\": 35, \"lon\": -90, \"zone_id\": 42, \"baseKV\": 500}])\n",
    "scenario.change_table.add_dcline(\n",
    "\t[{\"from_bus_id\": 1899, \"to_bus_id\": 70048, \"Pmin\": 0, \"Pmax\": 200}])"
   ]
  },
  {
   "cell_type": "markdown",
   "id": "47fea82b-eb21-44d9-aa0b-f86b85efd69b",
   "metadata": {},
   "source": [
    "### Review the scenario and change table, the launch simulation"
   ]
  },
  {
   "cell_type": "code",
   "execution_count": 13,
   "id": "79104507-7e8c-4918-815a-f068de66dd5c",
   "metadata": {},
   "outputs": [
    {
     "name": "stdout",
     "output_type": "stream",
     "text": [
      "--------------------\n",
      "SCENARIO INFORMATION\n",
      "--------------------\n",
      "plan: MISONC_MTEP16_MEP\n",
      "name: training\n",
      "state: create\n",
      "grid_model: usa_tamu\n",
      "interconnect: Eastern\n",
      "base_demand: vJan2021\n",
      "base_hydro: vJan2021\n",
      "base_solar: vJan2021\n",
      "base_wind: vJan2021\n",
      "change_table: Yes\n",
      "start_date: 2016-01-01 00:00:00\n",
      "end_date: 2016-01-31 23:00:00\n",
      "interval: 24H\n",
      "engine: REISE.jl\n"
     ]
    }
   ],
   "source": [
    "grid = scenario.get_grid()\n",
    "ct = scenario.get_ct()\n",
    "scenario.print_scenario_info()"
   ]
  },
  {
   "cell_type": "code",
   "execution_count": 14,
   "id": "1c8f8e76-d242-47e6-90a3-fcf2a06634ff",
   "metadata": {},
   "outputs": [
    {
     "data": {
      "text/plain": [
       "{'branch': {'branch_id': {68928: 17.28}, 'zone_id': {39: 2, 38: 2}},\n",
       " 'solar': {'zone_id': {42: 5, 43: 2.5}},\n",
       " 'wind': {'zone_id': {39: 1.5, 38: 2}},\n",
       " 'new_branch': [{'from_bus_id': 54070,\n",
       "   'to_bus_id': 54057,\n",
       "   'Pmax': 236,\n",
       "   'Pmin': -236}],\n",
       " 'new_dcline': [{'from_bus_id': 55119,\n",
       "   'to_bus_id': 1213,\n",
       "   'Pmax': 2000,\n",
       "   'Pmin': -2000},\n",
       "  {'from_bus_id': 1899, 'to_bus_id': 70048, 'Pmin': 0, 'Pmax': 200}],\n",
       " 'new_plant': [{'type': 'solar',\n",
       "   'bus_id': 1899,\n",
       "   'Pmax': 75,\n",
       "   'Pmin': 0,\n",
       "   'plant_id_neighbor': 674},\n",
       "  {'type': 'coal',\n",
       "   'bus_id': 54070,\n",
       "   'Pmin': 25,\n",
       "   'Pmax': 750,\n",
       "   'c0': 1800,\n",
       "   'c1': 30,\n",
       "   'c2': 0.0025},\n",
       "  {'type': 'ng',\n",
       "   'bus_id': 60911,\n",
       "   'Pmax': 75,\n",
       "   'c0': 900,\n",
       "   'c1': 30,\n",
       "   'c2': 0.0015,\n",
       "   'Pmin': 0}],\n",
       " 'new_bus': [{'lat': 35, 'lon': -90, 'zone_id': 42, 'baseKV': 500, 'Pd': 0}]}"
      ]
     },
     "execution_count": 14,
     "metadata": {},
     "output_type": "execute_result"
    }
   ],
   "source": [
    "ct"
   ]
  },
  {
   "cell_type": "code",
   "execution_count": 15,
   "id": "2734f993-e07a-437e-bc76-81f1c7352be0",
   "metadata": {},
   "outputs": [
    {
     "name": "stdout",
     "output_type": "stream",
     "text": [
      "CREATING SCENARIO: MISONC_MTEP16_MEP | training \n",
      "\n",
      "--> Adding entry in ScenarioList.csv on server\n",
      "--> Writing change table on local machine\n",
      "Writing /root/ScenarioData/2498_ct.pkl\n",
      "--> Moving file /root/ScenarioData/2498_ct.pkl to /mnt/bes/pcm/data/input/2498_ct.pkl\n",
      "-->  Setting status=created in execute table on server\n",
      "SCENARIO SUCCESSFULLY CREATED WITH ID #2498\n",
      "State switching: create --> execute\n",
      "execute\n",
      "---------------\n",
      "SCENARIO STATUS\n",
      "---------------\n",
      "created\n"
     ]
    }
   ],
   "source": [
    "scenario.create_scenario()\n",
    "\n",
    "print(scenario.state.name)\n",
    "scenario.state.print_scenario_status()"
   ]
  },
  {
   "cell_type": "code",
   "execution_count": 6,
   "id": "a438bdc8-e795-4069-b81c-236621a14582",
   "metadata": {},
   "outputs": [
    {
     "name": "stdout",
     "output_type": "stream",
     "text": [
      "---------------------------\n",
      "PREPARING SIMULATION INPUTS\n",
      "---------------------------\n",
      "--> Creating temporary folder on server for simulation inputs\n",
      "--> Loading demand\n",
      "Writing scaled demand profile in /root/ScenarioData/ on local machine\n",
      "--> Moving file /root/ScenarioData/405_demand.csv to /mnt/bes/pcm/tmp/scenario_405/demand.csv\n",
      "--> Loading hydro\n",
      "hydro_vJan2021.csv not found in /root/ScenarioData/ on local machine\n",
      "--> Downloading hydro_vJan2021.csv from blob storage.\n"
     ]
    },
    {
     "data": {
      "application/vnd.jupyter.widget-view+json": {
       "model_id": "0b69a5505f154b74a5869edfcc70059b",
       "version_major": 2,
       "version_minor": 0
      },
      "text/plain": [
       "  0%|          | 0.00/222M [00:00<?, ?B/s]"
      ]
     },
     "metadata": {},
     "output_type": "display_data"
    },
    {
     "name": "stdout",
     "output_type": "stream",
     "text": [
      "Writing scaled hydro profile in /root/ScenarioData/ on local machine\n",
      "--> Moving file /root/ScenarioData/405_hydro.csv to /mnt/bes/pcm/tmp/scenario_405/hydro.csv\n",
      "--> Loading solar\n",
      "Writing scaled solar profile in /root/ScenarioData/ on local machine\n",
      "--> Moving file /root/ScenarioData/405_solar.csv to /mnt/bes/pcm/tmp/scenario_405/solar.csv\n",
      "--> Loading wind\n",
      "Writing scaled wind profile in /root/ScenarioData/ on local machine\n",
      "--> Moving file /root/ScenarioData/405_wind.csv to /mnt/bes/pcm/tmp/scenario_405/wind.csv\n",
      "Building MPC file\n",
      "--> Moving file /root/ScenarioData/405_case.mat to /mnt/bes/pcm/tmp/scenario_405/case.mat\n",
      "-->  Setting status=prepared in execute table on server\n"
     ]
    }
   ],
   "source": [
    "scenario.state.prepare_simulation_input()"
   ]
  },
  {
   "cell_type": "code",
   "execution_count": 7,
   "id": "60c4c2e9-9d6a-4f11-b5fa-6e5e2fa0f064",
   "metadata": {},
   "outputs": [
    {
     "name": "stdout",
     "output_type": "stream",
     "text": [
      "--> Launching simulation on container\n"
     ]
    }
   ],
   "source": [
    "resp = scenario.launch_simulation()"
   ]
  },
  {
   "cell_type": "code",
   "execution_count": 16,
   "id": "6bae5237-7601-4ff9-8830-9abf359fcc06",
   "metadata": {},
   "outputs": [
    {
     "data": {
      "text/plain": [
       "\u001b[0;31mSignature:\u001b[0m \u001b[0mscenario\u001b[0m\u001b[0;34m.\u001b[0m\u001b[0mlaunch_simulation\u001b[0m\u001b[0;34m(\u001b[0m\u001b[0mthreads\u001b[0m\u001b[0;34m=\u001b[0m\u001b[0;32mNone\u001b[0m\u001b[0;34m,\u001b[0m \u001b[0mextract_data\u001b[0m\u001b[0;34m=\u001b[0m\u001b[0;32mTrue\u001b[0m\u001b[0;34m,\u001b[0m \u001b[0msolver\u001b[0m\u001b[0;34m=\u001b[0m\u001b[0;32mNone\u001b[0m\u001b[0;34m)\u001b[0m\u001b[0;34m\u001b[0m\u001b[0;34m\u001b[0m\u001b[0m\n",
       "\u001b[0;31mDocstring:\u001b[0m\n",
       "Launches simulation on target environment (server or container)\n",
       "\n",
       ":param int/None threads: the number of threads to be used. This defaults to None,\n",
       "    where None means auto.\n",
       ":param bool extract_data: whether the results of the simulation engine should\n",
       "    automatically extracted after the simulation has run. This defaults to True.\n",
       ":param str solver: the solver used for optimization. This defaults to\n",
       "    None, which translates to gurobi\n",
       ":return: (*subprocess.Popen*) or (*requests.Response*) - either the\n",
       "    process (if using ssh to server) or http response (if run in container)\n",
       "\u001b[0;31mFile:\u001b[0m      /PowerSimData/powersimdata/scenario/execute.py\n",
       "\u001b[0;31mType:\u001b[0m      method\n"
      ]
     },
     "metadata": {},
     "output_type": "display_data"
    }
   ],
   "source": [
    "# pass solver=\"glpk\" to use free solver\n",
    "scenario.launch_simulation?"
   ]
  },
  {
   "cell_type": "markdown",
   "id": "e5d8170a-7c6b-4c7c-9006-8c6e55346f97",
   "metadata": {},
   "source": [
    "NOTE: Any [JuMP](https://jump.dev/JuMP.jl/stable/) compatible solver is supported by REISE.jl side, and it is easy to extend support to PowerSimData to select additional solvers"
   ]
  },
  {
   "cell_type": "code",
   "execution_count": 10,
   "id": "08752650-078c-467d-ba58-d5e076292a0e",
   "metadata": {},
   "outputs": [
    {
     "data": {
      "text/plain": [
       "{'errors': [],\n",
       " 'output': ['Validation complete!',\n",
       "  'Launching scenario with parameters:',\n",
       "  \"{'num_segments': 1, 'interval': 24, 'n_interval': 31, 'start_index': 1, 'input_dir': '/mnt/bes/pcm/tmp/scenario_405', 'execute_dir': '/mnt/bes/pcm/tmp/scenario_405/output', 'threads': None, 'julia_env': None, 'solver_kwargs': None}\"],\n",
       " 'scenario_id': 405,\n",
       " 'status': 'running'}"
      ]
     },
     "execution_count": 10,
     "metadata": {},
     "output_type": "execute_result"
    }
   ],
   "source": [
    "scenario.check_progress()"
   ]
  },
  {
   "cell_type": "code",
   "execution_count": 14,
   "id": "53d455dc-fbf6-4c13-83a8-7aa8383e4c5b",
   "metadata": {},
   "outputs": [
    {
     "data": {
      "text/plain": [
       "{'errors': [],\n",
       " 'output': ['Validation complete!',\n",
       "  'Launching scenario with parameters:',\n",
       "  \"{'num_segments': 1, 'interval': 24, 'n_interval': 31, 'start_index': 1, 'input_dir': '/mnt/bes/pcm/tmp/scenario_405', 'execute_dir': '/mnt/bes/pcm/tmp/scenario_405/output', 'threads': None, 'julia_env': None, 'solver_kwargs': None}\",\n",
       "  'Julia exception: UndefVarError: m not defined',\n",
       "  'Stacktrace:',\n",
       "  '[1] run_scenario_gurobi(; solver_kwargs::Nothing, kwargs::Base.Iterators.Pairs{Symbol,Any,NTuple{7,Symbol},NamedTuple{(:interval, :n_interval, :start_index, :inputfolder, :outputfolder, :threads, :num_segments),Tuple{Int64,Int64,Int64,String,String,Nothing,Int64}}}) at /app/src/solver_specific/gurobi.jl:12',\n",
       "  '[2] (::PyCall.var\"#f_kw_closure#59\"{typeof(REISE.run_scenario_gurobi),Tuple{},Array{Tuple{Symbol,Any},1}})() at /root/.julia/packages/PyCall/zqDXB/src/callback.jl:36',\n",
       "  '[3] _pyjlwrap_call(::Function, ::Ptr{PyCall.PyObject_struct}, ::Ptr{PyCall.PyObject_struct}) at /root/.julia/packages/PyCall/zqDXB/src/callback.jl:37',\n",
       "  '[4] pyjlwrap_call(::Ptr{PyCall.PyObject_struct}, ::Ptr{PyCall.PyObject_struct}, ::Ptr{PyCall.PyObject_struct}) at /root/.julia/packages/PyCall/zqDXB/src/callback.jl:49'],\n",
       " 'scenario_id': 405,\n",
       " 'status': 'failed'}"
      ]
     },
     "execution_count": 14,
     "metadata": {},
     "output_type": "execute_result"
    }
   ],
   "source": [
    "scenario.check_progress()"
   ]
  },
  {
   "cell_type": "markdown",
   "id": "bb31b14e-1e8c-4ea2-95f1-6c68890506d3",
   "metadata": {},
   "source": [
    "### Retrieve simulation output again"
   ]
  },
  {
   "cell_type": "code",
   "execution_count": null,
   "id": "306969ce-3198-4c5b-824c-2a48d67551dc",
   "metadata": {},
   "outputs": [],
   "source": [
    "from powersimdata import Scenario\n",
    "scenario = Scenario(2497) \n",
    "scenario.print_scenario_info() \n",
    "ct = scenario.get_ct() \n",
    "grid = scenario.get_grid()\n",
    "congu = scenario.get_congu()                                                     \n",
    "congl = scenario.get_congl()\n",
    "congu_yearly = (congu.sum(axis = 0)[congu.sum(axis = 0)!=0]).sort_values(ascending=False)\n",
    "congl_yearly = (congl.sum(axis = 0)[congl.sum(axis = 0)!=0]).sort_values(ascending=False)\n",
    "congl[68928]\n",
    "congl[68928].astype(bool).sum(axis=0)"
   ]
  },
  {
   "cell_type": "markdown",
   "id": "43c10a7c-c736-473d-bb10-3c6c0c42ea74",
   "metadata": {},
   "source": [
    "### Analysis\n",
    "\n",
    "If we ran this scenario, we would see that congestion from before has been relieved. Next up - we will do some analysis\n",
    "and visualization, but note that this can be memory intensive, so we will switch between 403, and 2497 (a western scenario) as needed"
   ]
  },
  {
   "cell_type": "code",
   "execution_count": 1,
   "id": "68938eb9-7918-4c9d-90a0-1d6fccf547da",
   "metadata": {},
   "outputs": [
    {
     "name": "stdout",
     "output_type": "stream",
     "text": [
      "SCENARIO: Terrapower | Western_90pctclean_10pctnuclear_0pctflex_OB1\n",
      "\n",
      "--> State\n",
      "analyze\n",
      "--> Loading grid\n",
      "Loading bus\n",
      "Loading plant\n",
      "Loading heat_rate_curve\n",
      "Loading gencost_before\n",
      "Loading gencost_after\n",
      "Loading branch\n",
      "Loading dcline\n",
      "Loading sub\n",
      "Loading bus2sub\n",
      "--> Loading ct\n",
      "--> Loading PF\n",
      "--> Loading CONGL\n",
      "--> Loading CONGU\n"
     ]
    }
   ],
   "source": [
    "from powersimdata import Scenario\n",
    "scenario = Scenario(2497) \n",
    "pf_ac = scenario.get_pf()\n",
    "congl = scenario.get_congl()\n",
    "congu = scenario.get_congu()\n",
    "\n",
    "# approximate congestion cost\n",
    "cc_l = pf_ac * congl\n",
    "cc_u = pf_ac * congu\n",
    "\n",
    "ccl_sum = cc_l.sum(axis = 0)\n",
    "ccu_sum = cc_u.sum(axis = 0)\n",
    "\n",
    "cc_l_yearly = ccl_sum[ccl_sum != 0].sort_values(ascending=False)\n",
    "cc_u_yearly = ccu_sum[ccu_sum != 0].sort_values(ascending=False)"
   ]
  },
  {
   "cell_type": "code",
   "execution_count": 2,
   "id": "2023ec9c-0f4c-48ee-b4bf-96d866abd2e6",
   "metadata": {},
   "outputs": [
    {
     "data": {
      "text/html": [
       "<div>\n",
       "<style scoped>\n",
       "    .dataframe tbody tr th:only-of-type {\n",
       "        vertical-align: middle;\n",
       "    }\n",
       "\n",
       "    .dataframe tbody tr th {\n",
       "        vertical-align: top;\n",
       "    }\n",
       "\n",
       "    .dataframe thead th {\n",
       "        text-align: right;\n",
       "    }\n",
       "</style>\n",
       "<table border=\"1\" class=\"dataframe\">\n",
       "  <thead>\n",
       "    <tr style=\"text-align: right;\">\n",
       "      <th></th>\n",
       "      <th>104182</th>\n",
       "      <th>104183</th>\n",
       "      <th>104184</th>\n",
       "      <th>104185</th>\n",
       "      <th>104186</th>\n",
       "      <th>104187</th>\n",
       "      <th>104188</th>\n",
       "      <th>104189</th>\n",
       "      <th>104190</th>\n",
       "      <th>104191</th>\n",
       "    </tr>\n",
       "    <tr>\n",
       "      <th>UTC</th>\n",
       "      <th></th>\n",
       "      <th></th>\n",
       "      <th></th>\n",
       "      <th></th>\n",
       "      <th></th>\n",
       "      <th></th>\n",
       "      <th></th>\n",
       "      <th></th>\n",
       "      <th></th>\n",
       "      <th></th>\n",
       "    </tr>\n",
       "  </thead>\n",
       "  <tbody>\n",
       "    <tr>\n",
       "      <th>2016-12-31 14:00:00</th>\n",
       "      <td>0.0</td>\n",
       "      <td>0.0</td>\n",
       "      <td>0.0</td>\n",
       "      <td>0.0</td>\n",
       "      <td>0.0</td>\n",
       "      <td>0.0</td>\n",
       "      <td>0.0</td>\n",
       "      <td>0.0</td>\n",
       "      <td>0.0</td>\n",
       "      <td>0.0</td>\n",
       "    </tr>\n",
       "    <tr>\n",
       "      <th>2016-12-31 15:00:00</th>\n",
       "      <td>0.0</td>\n",
       "      <td>0.0</td>\n",
       "      <td>0.0</td>\n",
       "      <td>0.0</td>\n",
       "      <td>0.0</td>\n",
       "      <td>0.0</td>\n",
       "      <td>0.0</td>\n",
       "      <td>0.0</td>\n",
       "      <td>0.0</td>\n",
       "      <td>0.0</td>\n",
       "    </tr>\n",
       "    <tr>\n",
       "      <th>2016-12-31 16:00:00</th>\n",
       "      <td>0.0</td>\n",
       "      <td>0.0</td>\n",
       "      <td>0.0</td>\n",
       "      <td>0.0</td>\n",
       "      <td>0.0</td>\n",
       "      <td>0.0</td>\n",
       "      <td>0.0</td>\n",
       "      <td>0.0</td>\n",
       "      <td>0.0</td>\n",
       "      <td>0.0</td>\n",
       "    </tr>\n",
       "    <tr>\n",
       "      <th>2016-12-31 17:00:00</th>\n",
       "      <td>0.0</td>\n",
       "      <td>0.0</td>\n",
       "      <td>0.0</td>\n",
       "      <td>0.0</td>\n",
       "      <td>0.0</td>\n",
       "      <td>0.0</td>\n",
       "      <td>0.0</td>\n",
       "      <td>0.0</td>\n",
       "      <td>0.0</td>\n",
       "      <td>0.0</td>\n",
       "    </tr>\n",
       "    <tr>\n",
       "      <th>2016-12-31 18:00:00</th>\n",
       "      <td>0.0</td>\n",
       "      <td>0.0</td>\n",
       "      <td>0.0</td>\n",
       "      <td>0.0</td>\n",
       "      <td>0.0</td>\n",
       "      <td>0.0</td>\n",
       "      <td>0.0</td>\n",
       "      <td>0.0</td>\n",
       "      <td>0.0</td>\n",
       "      <td>0.0</td>\n",
       "    </tr>\n",
       "    <tr>\n",
       "      <th>2016-12-31 19:00:00</th>\n",
       "      <td>0.0</td>\n",
       "      <td>0.0</td>\n",
       "      <td>0.0</td>\n",
       "      <td>0.0</td>\n",
       "      <td>0.0</td>\n",
       "      <td>0.0</td>\n",
       "      <td>0.0</td>\n",
       "      <td>0.0</td>\n",
       "      <td>0.0</td>\n",
       "      <td>0.0</td>\n",
       "    </tr>\n",
       "    <tr>\n",
       "      <th>2016-12-31 20:00:00</th>\n",
       "      <td>0.0</td>\n",
       "      <td>0.0</td>\n",
       "      <td>0.0</td>\n",
       "      <td>0.0</td>\n",
       "      <td>0.0</td>\n",
       "      <td>0.0</td>\n",
       "      <td>0.0</td>\n",
       "      <td>0.0</td>\n",
       "      <td>0.0</td>\n",
       "      <td>0.0</td>\n",
       "    </tr>\n",
       "    <tr>\n",
       "      <th>2016-12-31 21:00:00</th>\n",
       "      <td>0.0</td>\n",
       "      <td>0.0</td>\n",
       "      <td>0.0</td>\n",
       "      <td>0.0</td>\n",
       "      <td>0.0</td>\n",
       "      <td>0.0</td>\n",
       "      <td>0.0</td>\n",
       "      <td>0.0</td>\n",
       "      <td>0.0</td>\n",
       "      <td>0.0</td>\n",
       "    </tr>\n",
       "    <tr>\n",
       "      <th>2016-12-31 22:00:00</th>\n",
       "      <td>0.0</td>\n",
       "      <td>0.0</td>\n",
       "      <td>0.0</td>\n",
       "      <td>0.0</td>\n",
       "      <td>0.0</td>\n",
       "      <td>0.0</td>\n",
       "      <td>0.0</td>\n",
       "      <td>0.0</td>\n",
       "      <td>0.0</td>\n",
       "      <td>0.0</td>\n",
       "    </tr>\n",
       "    <tr>\n",
       "      <th>2016-12-31 23:00:00</th>\n",
       "      <td>0.0</td>\n",
       "      <td>0.0</td>\n",
       "      <td>0.0</td>\n",
       "      <td>0.0</td>\n",
       "      <td>0.0</td>\n",
       "      <td>0.0</td>\n",
       "      <td>0.0</td>\n",
       "      <td>0.0</td>\n",
       "      <td>0.0</td>\n",
       "      <td>0.0</td>\n",
       "    </tr>\n",
       "  </tbody>\n",
       "</table>\n",
       "</div>"
      ],
      "text/plain": [
       "                     104182  104183  104184  104185  104186  104187  104188  \\\n",
       "UTC                                                                           \n",
       "2016-12-31 14:00:00     0.0     0.0     0.0     0.0     0.0     0.0     0.0   \n",
       "2016-12-31 15:00:00     0.0     0.0     0.0     0.0     0.0     0.0     0.0   \n",
       "2016-12-31 16:00:00     0.0     0.0     0.0     0.0     0.0     0.0     0.0   \n",
       "2016-12-31 17:00:00     0.0     0.0     0.0     0.0     0.0     0.0     0.0   \n",
       "2016-12-31 18:00:00     0.0     0.0     0.0     0.0     0.0     0.0     0.0   \n",
       "2016-12-31 19:00:00     0.0     0.0     0.0     0.0     0.0     0.0     0.0   \n",
       "2016-12-31 20:00:00     0.0     0.0     0.0     0.0     0.0     0.0     0.0   \n",
       "2016-12-31 21:00:00     0.0     0.0     0.0     0.0     0.0     0.0     0.0   \n",
       "2016-12-31 22:00:00     0.0     0.0     0.0     0.0     0.0     0.0     0.0   \n",
       "2016-12-31 23:00:00     0.0     0.0     0.0     0.0     0.0     0.0     0.0   \n",
       "\n",
       "                     104189  104190  104191  \n",
       "UTC                                          \n",
       "2016-12-31 14:00:00     0.0     0.0     0.0  \n",
       "2016-12-31 15:00:00     0.0     0.0     0.0  \n",
       "2016-12-31 16:00:00     0.0     0.0     0.0  \n",
       "2016-12-31 17:00:00     0.0     0.0     0.0  \n",
       "2016-12-31 18:00:00     0.0     0.0     0.0  \n",
       "2016-12-31 19:00:00     0.0     0.0     0.0  \n",
       "2016-12-31 20:00:00     0.0     0.0     0.0  \n",
       "2016-12-31 21:00:00     0.0     0.0     0.0  \n",
       "2016-12-31 22:00:00     0.0     0.0     0.0  \n",
       "2016-12-31 23:00:00     0.0     0.0     0.0  "
      ]
     },
     "execution_count": 2,
     "metadata": {},
     "output_type": "execute_result"
    }
   ],
   "source": [
    "cc_u.iloc[-10:,-10:]"
   ]
  },
  {
   "cell_type": "code",
   "execution_count": 3,
   "id": "7f63c205-9ef3-4c8b-8acf-8c6ebf31cb06",
   "metadata": {},
   "outputs": [
    {
     "data": {
      "text/html": [
       "<div>\n",
       "<style scoped>\n",
       "    .dataframe tbody tr th:only-of-type {\n",
       "        vertical-align: middle;\n",
       "    }\n",
       "\n",
       "    .dataframe tbody tr th {\n",
       "        vertical-align: top;\n",
       "    }\n",
       "\n",
       "    .dataframe thead th {\n",
       "        text-align: right;\n",
       "    }\n",
       "</style>\n",
       "<table border=\"1\" class=\"dataframe\">\n",
       "  <thead>\n",
       "    <tr style=\"text-align: right;\">\n",
       "      <th></th>\n",
       "      <th>88209</th>\n",
       "      <th>88210</th>\n",
       "      <th>88211</th>\n",
       "      <th>88212</th>\n",
       "      <th>88213</th>\n",
       "      <th>88214</th>\n",
       "      <th>88215</th>\n",
       "      <th>88216</th>\n",
       "      <th>88217</th>\n",
       "      <th>88218</th>\n",
       "    </tr>\n",
       "    <tr>\n",
       "      <th>UTC</th>\n",
       "      <th></th>\n",
       "      <th></th>\n",
       "      <th></th>\n",
       "      <th></th>\n",
       "      <th></th>\n",
       "      <th></th>\n",
       "      <th></th>\n",
       "      <th></th>\n",
       "      <th></th>\n",
       "      <th></th>\n",
       "    </tr>\n",
       "  </thead>\n",
       "  <tbody>\n",
       "    <tr>\n",
       "      <th>2016-01-05 04:00:00</th>\n",
       "      <td>0.0</td>\n",
       "      <td>0.0</td>\n",
       "      <td>0.0</td>\n",
       "      <td>0.0</td>\n",
       "      <td>0.0</td>\n",
       "      <td>0.0</td>\n",
       "      <td>0.0</td>\n",
       "      <td>0.0</td>\n",
       "      <td>0.0</td>\n",
       "      <td>0.0</td>\n",
       "    </tr>\n",
       "    <tr>\n",
       "      <th>2016-01-05 05:00:00</th>\n",
       "      <td>0.0</td>\n",
       "      <td>0.0</td>\n",
       "      <td>0.0</td>\n",
       "      <td>0.0</td>\n",
       "      <td>0.0</td>\n",
       "      <td>0.0</td>\n",
       "      <td>0.0</td>\n",
       "      <td>0.0</td>\n",
       "      <td>0.0</td>\n",
       "      <td>0.0</td>\n",
       "    </tr>\n",
       "    <tr>\n",
       "      <th>2016-01-05 06:00:00</th>\n",
       "      <td>0.0</td>\n",
       "      <td>0.0</td>\n",
       "      <td>0.0</td>\n",
       "      <td>0.0</td>\n",
       "      <td>0.0</td>\n",
       "      <td>0.0</td>\n",
       "      <td>0.0</td>\n",
       "      <td>0.0</td>\n",
       "      <td>0.0</td>\n",
       "      <td>0.0</td>\n",
       "    </tr>\n",
       "    <tr>\n",
       "      <th>2016-01-05 07:00:00</th>\n",
       "      <td>0.0</td>\n",
       "      <td>0.0</td>\n",
       "      <td>0.0</td>\n",
       "      <td>0.0</td>\n",
       "      <td>0.0</td>\n",
       "      <td>0.0</td>\n",
       "      <td>0.0</td>\n",
       "      <td>0.0</td>\n",
       "      <td>0.0</td>\n",
       "      <td>0.0</td>\n",
       "    </tr>\n",
       "    <tr>\n",
       "      <th>2016-01-05 08:00:00</th>\n",
       "      <td>0.0</td>\n",
       "      <td>0.0</td>\n",
       "      <td>0.0</td>\n",
       "      <td>0.0</td>\n",
       "      <td>0.0</td>\n",
       "      <td>0.0</td>\n",
       "      <td>0.0</td>\n",
       "      <td>0.0</td>\n",
       "      <td>0.0</td>\n",
       "      <td>0.0</td>\n",
       "    </tr>\n",
       "    <tr>\n",
       "      <th>2016-01-05 09:00:00</th>\n",
       "      <td>0.0</td>\n",
       "      <td>0.0</td>\n",
       "      <td>0.0</td>\n",
       "      <td>0.0</td>\n",
       "      <td>0.0</td>\n",
       "      <td>0.0</td>\n",
       "      <td>0.0</td>\n",
       "      <td>0.0</td>\n",
       "      <td>0.0</td>\n",
       "      <td>0.0</td>\n",
       "    </tr>\n",
       "    <tr>\n",
       "      <th>2016-01-05 10:00:00</th>\n",
       "      <td>0.0</td>\n",
       "      <td>0.0</td>\n",
       "      <td>0.0</td>\n",
       "      <td>0.0</td>\n",
       "      <td>0.0</td>\n",
       "      <td>0.0</td>\n",
       "      <td>0.0</td>\n",
       "      <td>0.0</td>\n",
       "      <td>0.0</td>\n",
       "      <td>0.0</td>\n",
       "    </tr>\n",
       "    <tr>\n",
       "      <th>2016-01-05 11:00:00</th>\n",
       "      <td>0.0</td>\n",
       "      <td>0.0</td>\n",
       "      <td>0.0</td>\n",
       "      <td>0.0</td>\n",
       "      <td>0.0</td>\n",
       "      <td>0.0</td>\n",
       "      <td>0.0</td>\n",
       "      <td>0.0</td>\n",
       "      <td>0.0</td>\n",
       "      <td>0.0</td>\n",
       "    </tr>\n",
       "    <tr>\n",
       "      <th>2016-01-05 12:00:00</th>\n",
       "      <td>0.0</td>\n",
       "      <td>0.0</td>\n",
       "      <td>0.0</td>\n",
       "      <td>0.0</td>\n",
       "      <td>0.0</td>\n",
       "      <td>0.0</td>\n",
       "      <td>0.0</td>\n",
       "      <td>0.0</td>\n",
       "      <td>0.0</td>\n",
       "      <td>0.0</td>\n",
       "    </tr>\n",
       "    <tr>\n",
       "      <th>2016-01-05 13:00:00</th>\n",
       "      <td>0.0</td>\n",
       "      <td>0.0</td>\n",
       "      <td>0.0</td>\n",
       "      <td>0.0</td>\n",
       "      <td>0.0</td>\n",
       "      <td>0.0</td>\n",
       "      <td>0.0</td>\n",
       "      <td>0.0</td>\n",
       "      <td>0.0</td>\n",
       "      <td>0.0</td>\n",
       "    </tr>\n",
       "  </tbody>\n",
       "</table>\n",
       "</div>"
      ],
      "text/plain": [
       "                     88209  88210  88211  88212  88213  88214  88215  88216  \\\n",
       "UTC                                                                           \n",
       "2016-01-05 04:00:00    0.0    0.0    0.0    0.0    0.0    0.0    0.0    0.0   \n",
       "2016-01-05 05:00:00    0.0    0.0    0.0    0.0    0.0    0.0    0.0    0.0   \n",
       "2016-01-05 06:00:00    0.0    0.0    0.0    0.0    0.0    0.0    0.0    0.0   \n",
       "2016-01-05 07:00:00    0.0    0.0    0.0    0.0    0.0    0.0    0.0    0.0   \n",
       "2016-01-05 08:00:00    0.0    0.0    0.0    0.0    0.0    0.0    0.0    0.0   \n",
       "2016-01-05 09:00:00    0.0    0.0    0.0    0.0    0.0    0.0    0.0    0.0   \n",
       "2016-01-05 10:00:00    0.0    0.0    0.0    0.0    0.0    0.0    0.0    0.0   \n",
       "2016-01-05 11:00:00    0.0    0.0    0.0    0.0    0.0    0.0    0.0    0.0   \n",
       "2016-01-05 12:00:00    0.0    0.0    0.0    0.0    0.0    0.0    0.0    0.0   \n",
       "2016-01-05 13:00:00    0.0    0.0    0.0    0.0    0.0    0.0    0.0    0.0   \n",
       "\n",
       "                     88217  88218  \n",
       "UTC                                \n",
       "2016-01-05 04:00:00    0.0    0.0  \n",
       "2016-01-05 05:00:00    0.0    0.0  \n",
       "2016-01-05 06:00:00    0.0    0.0  \n",
       "2016-01-05 07:00:00    0.0    0.0  \n",
       "2016-01-05 08:00:00    0.0    0.0  \n",
       "2016-01-05 09:00:00    0.0    0.0  \n",
       "2016-01-05 10:00:00    0.0    0.0  \n",
       "2016-01-05 11:00:00    0.0    0.0  \n",
       "2016-01-05 12:00:00    0.0    0.0  \n",
       "2016-01-05 13:00:00    0.0    0.0  "
      ]
     },
     "execution_count": 3,
     "metadata": {},
     "output_type": "execute_result"
    }
   ],
   "source": [
    "cc_l.iloc[100:110,:10]"
   ]
  },
  {
   "cell_type": "code",
   "execution_count": 4,
   "id": "5e4c2cee-34fb-4d15-a86c-98c617e5eb65",
   "metadata": {},
   "outputs": [
    {
     "data": {
      "text/plain": [
       "96052     1.828126e-03\n",
       "95872     1.610837e-03\n",
       "98223     1.515382e-03\n",
       "95868     1.489014e-03\n",
       "98037     1.359512e-03\n",
       "              ...     \n",
       "100318   -7.793237e+07\n",
       "99412    -8.486279e+07\n",
       "93931    -9.646988e+07\n",
       "99238    -1.413366e+08\n",
       "93280    -3.487894e+08\n",
       "Length: 4265, dtype: float64"
      ]
     },
     "execution_count": 4,
     "metadata": {},
     "output_type": "execute_result"
    }
   ],
   "source": [
    "cc_l_yearly"
   ]
  },
  {
   "cell_type": "code",
   "execution_count": null,
   "id": "8e4cf07a-e94d-4d5c-88fd-3d4a5f6ae2f4",
   "metadata": {},
   "outputs": [],
   "source": []
  }
 ],
 "metadata": {
  "kernelspec": {
   "display_name": "Python 3",
   "language": "python",
   "name": "python3"
  },
  "language_info": {
   "codemirror_mode": {
    "name": "ipython",
    "version": 3
   },
   "file_extension": ".py",
   "mimetype": "text/x-python",
   "name": "python",
   "nbconvert_exporter": "python",
   "pygments_lexer": "ipython3",
   "version": "3.8.3"
  }
 },
 "nbformat": 4,
 "nbformat_minor": 5
}
