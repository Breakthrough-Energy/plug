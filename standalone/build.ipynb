{
 "cells": [
  {
   "cell_type": "markdown",
   "id": "c544013a-89a3-47dd-9693-d59a284a2bd8",
   "metadata": {},
   "source": [
    "### Create scenarios and upgrade congested transmission line"
   ]
  },
  {
   "cell_type": "code",
   "execution_count": 1,
   "id": "29600752-ed2d-44aa-91fe-3d3c5c6e3a21",
   "metadata": {},
   "outputs": [
    {
     "name": "stdout",
     "output_type": "stream",
     "text": [
      "Reading bus.csv\n",
      "Reading plant.csv\n",
      "Reading gencost.csv\n",
      "Reading branch.csv\n",
      "Reading dcline.csv\n",
      "Reading sub.csv\n",
      "Reading bus2sub.csv\n",
      "Reading zone.csv\n",
      "--> Summary\n",
      "# Existing study\n",
      "test\n",
      "# Available profiles\n",
      "demand: vJan2021\n",
      "hydro: vJan2021\n",
      "solar: vJan2021\n",
      "wind: vJan2021\n"
     ]
    }
   ],
   "source": [
    "from powersimdata import Scenario\n",
    "scenario = Scenario('')\n",
    "scenario.set_builder(grid_model=\"usa_tamu\", interconnect=\"Eastern\")\n",
    "scenario.set_name(\"MISONC_MTEP16_MEP\", \"training\")\n",
    "scenario.set_time(\"2016-01-01 00:00:00\",\"2016-01-31 23:00:00\",\"24H\")\n",
    "scenario.set_base_profile(\"demand\", \"vJan2021\")\n",
    "scenario.set_base_profile(\"hydro\", \"vJan2021\")\n",
    "scenario.set_base_profile(\"solar\", \"vJan2021\")\n",
    "scenario.set_base_profile(\"wind\", \"vJan2021\")\n",
    "\n",
    "# Upgrade the congested branch 68928 from 13.66MVA RateA to 236MW, which is a 17.28-time increase. Impedance will be automatically reduced proportionally.\n",
    "scenario.change_table.scale_branch_capacity(branch_id = {68928: 17.28})\n",
    "\n",
    "grid = scenario.get_grid()\n",
    "ct = scenario.get_ct()"
   ]
  },
  {
   "cell_type": "markdown",
   "id": "ee642841-4eda-4fa7-aafe-eaa7d59d87b8",
   "metadata": {},
   "source": [
    "### Use the change table to modify conditions"
   ]
  },
  {
   "cell_type": "code",
   "execution_count": 4,
   "id": "bffbc560-e78d-4460-a8ac-170822a537a3",
   "metadata": {},
   "outputs": [],
   "source": [
    "scenario.change_table.scale_plant_capacity(\n",
    "    \"solar\", zone_name={\"Arkansas\": 5, \"Louisiana\": 2.5})\n",
    "scenario.change_table.scale_plant_capacity(\n",
    "    \"wind\", zone_name={\"Iowa\": 1.5, \"Minnesota Southern\": 2})\n",
    "scenario.change_table.scale_branch_capacity(\n",
    "    zone_name={\"Iowa\": 2, \"Minnesota Southern\": 2})\n",
    "\n",
    "# add AC line between two busses in IA\n",
    "scenario.change_table.add_branch(\n",
    "    [{\"capacity\": 236, \"from_bus_id\": 54070, \"to_bus_id\": 54057}])\n",
    "\n",
    "# add DC line between central IA and Chicago, IL\n",
    "scenario.change_table.add_dcline(\n",
    "    [{\"capacity\": 2000, \"from_bus_id\":55119, \"to_bus_id\": 1213}])\n",
    "\n",
    "# add a solar plant in AK, a coal plant in IA and a natural gas plant in LA\n",
    "scenario.change_table.add_plant(\n",
    "    [{\"type\": \"solar\", \"bus_id\": 1899, \"Pmax\": 75},\n",
    "     {\"type\": \"coal\", \"bus_id\": 54070, \"Pmin\": 25, \"Pmax\": 750, \"c0\": 1800, \"c1\": 30, \"c2\": 0.0025},\n",
    "     {\"type\": \"ng\", \"bus_id\": 60911, \"Pmax\": 75, \"c0\": 900, \"c1\": 30, \"c2\": 0.0015}])\n",
    "\n",
    "# add a new bus, and a new one-way DC line connected to this bus\n",
    "scenario.change_table.add_bus(\n",
    "\t[{\"lat\": 35, \"lon\": -90, \"zone_id\": 42, \"baseKV\": 500}])\n",
    "scenario.change_table.add_dcline(\n",
    "\t[{\"from_bus_id\": 1899, \"to_bus_id\": 70048, \"Pmin\": 0, \"Pmax\": 200}])"
   ]
  },
  {
   "cell_type": "markdown",
   "id": "47fea82b-eb21-44d9-aa0b-f86b85efd69b",
   "metadata": {},
   "source": [
    "### Review the scenario and change table, the launch simulation"
   ]
  },
  {
   "cell_type": "code",
   "execution_count": 5,
   "id": "79104507-7e8c-4918-815a-f068de66dd5c",
   "metadata": {},
   "outputs": [
    {
     "name": "stdout",
     "output_type": "stream",
     "text": [
      "--------------------\n",
      "SCENARIO INFORMATION\n",
      "--------------------\n",
      "plan: MISONC_MTEP16_MEP\n",
      "name: training\n",
      "state: create\n",
      "grid_model: usa_tamu\n",
      "interconnect: Eastern\n",
      "base_demand: vJan2021\n",
      "base_hydro: vJan2021\n",
      "base_solar: vJan2021\n",
      "base_wind: vJan2021\n",
      "change_table: Yes\n",
      "start_date: 2016-01-01 00:00:00\n",
      "end_date: 2016-01-31 23:00:00\n",
      "interval: 24H\n",
      "engine: REISE.jl\n"
     ]
    }
   ],
   "source": [
    "grid = scenario.get_grid()\n",
    "ct = scenario.get_ct()\n",
    "scenario.print_scenario_info()"
   ]
  },
  {
   "cell_type": "code",
   "execution_count": null,
   "id": "2734f993-e07a-437e-bc76-81f1c7352be0",
   "metadata": {},
   "outputs": [],
   "source": [
    "scenario.create_scenario()\n",
    "\n",
    "print(scenario.state.name)\n",
    "scenario.state.print_scenario_status()"
   ]
  },
  {
   "cell_type": "code",
   "execution_count": null,
   "id": "a438bdc8-e795-4069-b81c-236621a14582",
   "metadata": {},
   "outputs": [],
   "source": [
    "scenario.state.prepare_simulation_input()"
   ]
  },
  {
   "cell_type": "code",
   "execution_count": null,
   "id": "60c4c2e9-9d6a-4f11-b5fa-6e5e2fa0f064",
   "metadata": {},
   "outputs": [],
   "source": [
    "resp = scenario.launch_simulation(solver=\"glpk\")"
   ]
  },
  {
   "cell_type": "code",
   "execution_count": null,
   "id": "08752650-078c-467d-ba58-d5e076292a0e",
   "metadata": {},
   "outputs": [],
   "source": [
    "scenario.check_progress()"
   ]
  },
  {
   "cell_type": "markdown",
   "id": "bb31b14e-1e8c-4ea2-95f1-6c68890506d3",
   "metadata": {},
   "source": [
    "### Retrieve simulation output again"
   ]
  },
  {
   "cell_type": "code",
   "execution_count": null,
   "id": "306969ce-3198-4c5b-824c-2a48d67551dc",
   "metadata": {},
   "outputs": [],
   "source": [
    "from powersimdata.scenario.scenario import Scenario\n",
    "scenario = Scenario(\"training\") \n",
    "scenario.state.print_scenario_info() \n",
    "ct = scenario.state.get_ct() \n",
    "grid = scenario.state.get_grid()\n",
    "congu = scenario.state.get_congu()                                                     \n",
    "congl = scenario.state.get_congl()\n",
    "congu_yearly = (congu.sum(axis = 0)[congu.sum(axis = 0)!=0]).sort_values(ascending=False)\n",
    "congl_yearly = (congl.sum(axis = 0)[congl.sum(axis = 0)!=0]).sort_values(ascending=False)\n",
    "congl[68928]\n",
    "congl[68928].astype(bool).sum(axis=0)"
   ]
  }
 ],
 "metadata": {
  "kernelspec": {
   "display_name": "Python 3",
   "language": "python",
   "name": "python3"
  },
  "language_info": {
   "codemirror_mode": {
    "name": "ipython",
    "version": 3
   },
   "file_extension": ".py",
   "mimetype": "text/x-python",
   "name": "python",
   "nbconvert_exporter": "python",
   "pygments_lexer": "ipython3",
   "version": "3.8.3"
  }
 },
 "nbformat": 4,
 "nbformat_minor": 5
}
