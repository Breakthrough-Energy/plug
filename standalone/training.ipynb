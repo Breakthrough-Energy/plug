{
 "cells": [
  {
   "cell_type": "code",
   "execution_count": 1,
   "id": "da59852c",
   "metadata": {
    "collapsed": true,
    "jupyter": {
     "outputs_hidden": true
    },
    "tags": []
   },
   "outputs": [
    {
     "name": "stdout",
     "output_type": "stream",
     "text": [
      "Requirement already satisfied: ipywidgets in /usr/local/lib/python3.8/site-packages (7.6.3)\n",
      "Requirement already satisfied: traitlets>=4.3.1 in /usr/local/lib/python3.8/site-packages (from ipywidgets) (5.0.5)\n",
      "Requirement already satisfied: ipython>=4.0.0 in /usr/local/lib/python3.8/site-packages (from ipywidgets) (7.22.0)\n",
      "Requirement already satisfied: nbformat>=4.2.0 in /usr/local/lib/python3.8/site-packages (from ipywidgets) (5.1.3)\n",
      "Requirement already satisfied: ipykernel>=4.5.1 in /usr/local/lib/python3.8/site-packages (from ipywidgets) (5.5.3)\n",
      "Requirement already satisfied: jupyterlab-widgets>=1.0.0 in /usr/local/lib/python3.8/site-packages (from ipywidgets) (1.0.0)\n",
      "Requirement already satisfied: widgetsnbextension~=3.5.0 in /usr/local/lib/python3.8/site-packages (from ipywidgets) (3.5.1)\n",
      "Requirement already satisfied: jupyter-client in /usr/local/lib/python3.8/site-packages (from ipykernel>=4.5.1->ipywidgets) (6.1.13)\n",
      "Requirement already satisfied: tornado>=4.2 in /usr/local/lib/python3.8/site-packages (from ipykernel>=4.5.1->ipywidgets) (6.1)\n",
      "Requirement already satisfied: pickleshare in /usr/local/lib/python3.8/site-packages (from ipython>=4.0.0->ipywidgets) (0.7.5)\n",
      "Requirement already satisfied: prompt-toolkit!=3.0.0,!=3.0.1,<3.1.0,>=2.0.0 in /usr/local/lib/python3.8/site-packages (from ipython>=4.0.0->ipywidgets) (3.0.18)\n",
      "Requirement already satisfied: decorator in /usr/local/lib/python3.8/site-packages (from ipython>=4.0.0->ipywidgets) (5.0.5)\n",
      "Requirement already satisfied: pexpect>4.3 in /usr/local/lib/python3.8/site-packages (from ipython>=4.0.0->ipywidgets) (4.8.0)\n",
      "Requirement already satisfied: setuptools>=18.5 in /usr/local/lib/python3.8/site-packages (from ipython>=4.0.0->ipywidgets) (47.1.1)\n",
      "Requirement already satisfied: pygments in /usr/local/lib/python3.8/site-packages (from ipython>=4.0.0->ipywidgets) (2.8.1)\n",
      "Requirement already satisfied: jedi>=0.16 in /usr/local/lib/python3.8/site-packages (from ipython>=4.0.0->ipywidgets) (0.17.2)\n",
      "Requirement already satisfied: backcall in /usr/local/lib/python3.8/site-packages (from ipython>=4.0.0->ipywidgets) (0.2.0)\n",
      "Requirement already satisfied: parso<0.8.0,>=0.7.0 in /usr/local/lib/python3.8/site-packages (from jedi>=0.16->ipython>=4.0.0->ipywidgets) (0.7.1)\n",
      "Requirement already satisfied: jsonschema!=2.5.0,>=2.4 in /usr/local/lib/python3.8/site-packages (from nbformat>=4.2.0->ipywidgets) (3.2.0)\n",
      "Requirement already satisfied: jupyter-core in /usr/local/lib/python3.8/site-packages (from nbformat>=4.2.0->ipywidgets) (4.7.1)\n",
      "Requirement already satisfied: ipython-genutils in /usr/local/lib/python3.8/site-packages (from nbformat>=4.2.0->ipywidgets) (0.2.0)\n",
      "Requirement already satisfied: pyrsistent>=0.14.0 in /usr/local/lib/python3.8/site-packages (from jsonschema!=2.5.0,>=2.4->nbformat>=4.2.0->ipywidgets) (0.17.3)\n",
      "Requirement already satisfied: attrs>=17.4.0 in /usr/local/lib/python3.8/site-packages (from jsonschema!=2.5.0,>=2.4->nbformat>=4.2.0->ipywidgets) (20.3.0)\n",
      "Requirement already satisfied: six>=1.11.0 in /usr/local/lib/python3.8/site-packages (from jsonschema!=2.5.0,>=2.4->nbformat>=4.2.0->ipywidgets) (1.15.0)\n",
      "Requirement already satisfied: ptyprocess>=0.5 in /usr/local/lib/python3.8/site-packages (from pexpect>4.3->ipython>=4.0.0->ipywidgets) (0.7.0)\n",
      "Requirement already satisfied: wcwidth in /usr/local/lib/python3.8/site-packages (from prompt-toolkit!=3.0.0,!=3.0.1,<3.1.0,>=2.0.0->ipython>=4.0.0->ipywidgets) (0.2.5)\n",
      "Requirement already satisfied: notebook>=4.4.1 in /usr/local/lib/python3.8/site-packages (from widgetsnbextension~=3.5.0->ipywidgets) (6.3.0)\n",
      "Requirement already satisfied: pyzmq>=17 in /usr/local/lib/python3.8/site-packages (from notebook>=4.4.1->widgetsnbextension~=3.5.0->ipywidgets) (22.0.3)\n",
      "Requirement already satisfied: argon2-cffi in /usr/local/lib/python3.8/site-packages (from notebook>=4.4.1->widgetsnbextension~=3.5.0->ipywidgets) (20.1.0)\n",
      "Requirement already satisfied: jinja2 in /usr/local/lib/python3.8/site-packages (from notebook>=4.4.1->widgetsnbextension~=3.5.0->ipywidgets) (2.11.3)\n",
      "Requirement already satisfied: Send2Trash>=1.5.0 in /usr/local/lib/python3.8/site-packages (from notebook>=4.4.1->widgetsnbextension~=3.5.0->ipywidgets) (1.5.0)\n",
      "Requirement already satisfied: terminado>=0.8.3 in /usr/local/lib/python3.8/site-packages (from notebook>=4.4.1->widgetsnbextension~=3.5.0->ipywidgets) (0.9.4)\n",
      "Requirement already satisfied: nbconvert in /usr/local/lib/python3.8/site-packages (from notebook>=4.4.1->widgetsnbextension~=3.5.0->ipywidgets) (6.0.7)\n",
      "Requirement already satisfied: prometheus-client in /usr/local/lib/python3.8/site-packages (from notebook>=4.4.1->widgetsnbextension~=3.5.0->ipywidgets) (0.10.0)\n",
      "Requirement already satisfied: nest-asyncio>=1.5 in /usr/local/lib/python3.8/site-packages (from jupyter-client->ipykernel>=4.5.1->ipywidgets) (1.5.1)\n",
      "Requirement already satisfied: python-dateutil>=2.1 in /usr/local/lib/python3.8/site-packages (from jupyter-client->ipykernel>=4.5.1->ipywidgets) (2.8.1)\n",
      "Requirement already satisfied: cffi>=1.0.0 in /usr/local/lib/python3.8/site-packages (from argon2-cffi->notebook>=4.4.1->widgetsnbextension~=3.5.0->ipywidgets) (1.14.5)\n",
      "Requirement already satisfied: pycparser in /usr/local/lib/python3.8/site-packages (from cffi>=1.0.0->argon2-cffi->notebook>=4.4.1->widgetsnbextension~=3.5.0->ipywidgets) (2.20)\n",
      "Requirement already satisfied: MarkupSafe>=0.23 in /usr/local/lib/python3.8/site-packages (from jinja2->notebook>=4.4.1->widgetsnbextension~=3.5.0->ipywidgets) (1.1.1)\n",
      "Requirement already satisfied: defusedxml in /usr/local/lib/python3.8/site-packages (from nbconvert->notebook>=4.4.1->widgetsnbextension~=3.5.0->ipywidgets) (0.7.1)\n",
      "Requirement already satisfied: mistune<2,>=0.8.1 in /usr/local/lib/python3.8/site-packages (from nbconvert->notebook>=4.4.1->widgetsnbextension~=3.5.0->ipywidgets) (0.8.4)\n",
      "Requirement already satisfied: pandocfilters>=1.4.1 in /usr/local/lib/python3.8/site-packages (from nbconvert->notebook>=4.4.1->widgetsnbextension~=3.5.0->ipywidgets) (1.4.3)\n",
      "Requirement already satisfied: nbclient<0.6.0,>=0.5.0 in /usr/local/lib/python3.8/site-packages (from nbconvert->notebook>=4.4.1->widgetsnbextension~=3.5.0->ipywidgets) (0.5.3)\n",
      "Requirement already satisfied: testpath in /usr/local/lib/python3.8/site-packages (from nbconvert->notebook>=4.4.1->widgetsnbextension~=3.5.0->ipywidgets) (0.4.4)\n",
      "Requirement already satisfied: entrypoints>=0.2.2 in /usr/local/lib/python3.8/site-packages (from nbconvert->notebook>=4.4.1->widgetsnbextension~=3.5.0->ipywidgets) (0.3)\n",
      "Requirement already satisfied: bleach in /usr/local/lib/python3.8/site-packages (from nbconvert->notebook>=4.4.1->widgetsnbextension~=3.5.0->ipywidgets) (3.3.0)\n",
      "Requirement already satisfied: jupyterlab-pygments in /usr/local/lib/python3.8/site-packages (from nbconvert->notebook>=4.4.1->widgetsnbextension~=3.5.0->ipywidgets) (0.1.2)\n",
      "Requirement already satisfied: async-generator in /usr/local/lib/python3.8/site-packages (from nbclient<0.6.0,>=0.5.0->nbconvert->notebook>=4.4.1->widgetsnbextension~=3.5.0->ipywidgets) (1.10)\n",
      "Requirement already satisfied: webencodings in /usr/local/lib/python3.8/site-packages (from bleach->nbconvert->notebook>=4.4.1->widgetsnbextension~=3.5.0->ipywidgets) (0.5.1)\n",
      "Requirement already satisfied: packaging in /usr/local/lib/python3.8/site-packages (from bleach->nbconvert->notebook>=4.4.1->widgetsnbextension~=3.5.0->ipywidgets) (20.9)\n",
      "Requirement already satisfied: pyparsing>=2.0.2 in /usr/local/lib/python3.8/site-packages (from packaging->bleach->nbconvert->notebook>=4.4.1->widgetsnbextension~=3.5.0->ipywidgets) (2.4.7)\n"
     ]
    }
   ],
   "source": [
    "!pip install ipywidgets"
   ]
  },
  {
   "cell_type": "markdown",
   "id": "50c2b409",
   "metadata": {},
   "source": [
    "### Basic usage\n",
    "First we need to import the `Scenario` class which will be the central point for managing a given.. scenario.\n",
    "Here's how to use it"
   ]
  },
  {
   "cell_type": "code",
   "execution_count": 12,
   "id": "6f240539",
   "metadata": {
    "tags": []
   },
   "outputs": [
    {
     "name": "stdout",
     "output_type": "stream",
     "text": [
      "SCENARIO: test | EasternBase_2020_3\n",
      "\n",
      "--> State\n",
      "analyze\n",
      "--> Loading grid\n",
      "--> Loading ct\n"
     ]
    }
   ],
   "source": [
    "from powersimdata import Scenario\n",
    "scenario = Scenario(403)"
   ]
  },
  {
   "cell_type": "markdown",
   "id": "c041c5ca",
   "metadata": {},
   "source": [
    "### Note on documentation\n",
    "See the [module index](https://breakthrough-energy.github.io/docs/py-modindex.html) on our docs website for a full listing of the code.\n",
    "There is also interactive help available:"
   ]
  },
  {
   "cell_type": "code",
   "execution_count": 6,
   "id": "ad579152",
   "metadata": {},
   "outputs": [
    {
     "data": {
      "text/plain": [
       "\u001b[0;31mType:\u001b[0m           Scenario\n",
       "\u001b[0;31mString form:\u001b[0m    <powersimdata.scenario.scenario.Scenario object at 0x7f654904ed30>\n",
       "\u001b[0;31mFile:\u001b[0m           /PowerSimData/powersimdata/scenario/scenario.py\n",
       "\u001b[0;31mDocstring:\u001b[0m     \n",
       "Handles scenario.\n",
       "\n",
       ":param int/str descriptor: scenario name or index. If None, default to a Scenario\n",
       "    in Create state.\n",
       "\u001b[0;31mInit docstring:\u001b[0m Constructor.\n"
      ]
     },
     "metadata": {},
     "output_type": "display_data"
    }
   ],
   "source": [
    "# see the docstring\n",
    "scenario?"
   ]
  },
  {
   "cell_type": "code",
   "execution_count": 4,
   "id": "378d01ec",
   "metadata": {},
   "outputs": [
    {
     "name": "stdout",
     "output_type": "stream",
     "text": [
      "--------------------\n",
      "SCENARIO INFORMATION\n",
      "--------------------\n",
      "id: 403\n",
      "plan: test\n",
      "name: EasternBase_2020_3\n",
      "state: analyze\n",
      "grid_model: usa_tamu\n",
      "interconnect: Eastern\n",
      "base_demand: vJan2021\n",
      "base_hydro: vJan2021\n",
      "base_solar: vJan2021\n",
      "base_wind: vJan2021\n",
      "change_table: Yes\n",
      "start_date: 2016-01-01 00:00:00\n",
      "end_date: 2016-12-31 23:00:00\n",
      "interval: 24H\n",
      "engine: REISE\n",
      "runtime: 18:21\n",
      "infeasibilities: \n"
     ]
    }
   ],
   "source": [
    "scenario.print_scenario_info()"
   ]
  },
  {
   "cell_type": "markdown",
   "id": "4134d9ac",
   "metadata": {
    "tags": []
   },
   "source": [
    "### Load base scenario grid data and results"
   ]
  },
  {
   "cell_type": "code",
   "execution_count": null,
   "id": "bcfe2ce4",
   "metadata": {},
   "outputs": [],
   "source": [
    "ct= scenario.get_ct()\n",
    "grid = scenario.get_grid()\n",
    "load_shed= scenario.get_load_shed()\n",
    "congu= scenario.get_congu() # get positive direction hourly branch congestion\n",
    "congl= scenario.get_congl() # get negative direction hourly branch congestion"
   ]
  },
  {
   "cell_type": "code",
   "execution_count": 17,
   "id": "506ff879",
   "metadata": {
    "collapsed": true,
    "jupyter": {
     "outputs_hidden": true
    },
    "tags": []
   },
   "outputs": [
    {
     "name": "stdout",
     "output_type": "stream",
     "text": [
      "--> Loading solar\n"
     ]
    },
    {
     "ename": "EmptyDataError",
     "evalue": "No columns to parse from file",
     "output_type": "error",
     "traceback": [
      "\u001b[0;31m\u001b[0m",
      "\u001b[0;31mEmptyDataError\u001b[0mTraceback (most recent call last)",
      "\u001b[0;32m<ipython-input-17-5f2fe3c4ba3c>\u001b[0m in \u001b[0;36m<module>\u001b[0;34m\u001b[0m\n\u001b[0;32m----> 1\u001b[0;31m \u001b[0mscenario\u001b[0m\u001b[0;34m.\u001b[0m\u001b[0mget_solar\u001b[0m\u001b[0;34m(\u001b[0m\u001b[0;34m)\u001b[0m\u001b[0;34m\u001b[0m\u001b[0;34m\u001b[0m\u001b[0m\n\u001b[0m",
      "\u001b[0;32m/PowerSimData/powersimdata/scenario/analyze.py\u001b[0m in \u001b[0;36mget_solar\u001b[0;34m(self)\u001b[0m\n\u001b[1;32m    313\u001b[0m         \"\"\"\n\u001b[1;32m    314\u001b[0m         \u001b[0mprofile\u001b[0m \u001b[0;34m=\u001b[0m \u001b[0mTransformProfile\u001b[0m\u001b[0;34m(\u001b[0m\u001b[0mself\u001b[0m\u001b[0;34m.\u001b[0m\u001b[0m_scenario_info\u001b[0m\u001b[0;34m,\u001b[0m \u001b[0mself\u001b[0m\u001b[0;34m.\u001b[0m\u001b[0mget_grid\u001b[0m\u001b[0;34m(\u001b[0m\u001b[0;34m)\u001b[0m\u001b[0;34m,\u001b[0m \u001b[0mself\u001b[0m\u001b[0;34m.\u001b[0m\u001b[0mget_ct\u001b[0m\u001b[0;34m(\u001b[0m\u001b[0;34m)\u001b[0m\u001b[0;34m)\u001b[0m\u001b[0;34m\u001b[0m\u001b[0;34m\u001b[0m\u001b[0m\n\u001b[0;32m--> 315\u001b[0;31m         \u001b[0;32mreturn\u001b[0m \u001b[0mprofile\u001b[0m\u001b[0;34m.\u001b[0m\u001b[0mget_profile\u001b[0m\u001b[0;34m(\u001b[0m\u001b[0;34m\"solar\"\u001b[0m\u001b[0;34m)\u001b[0m\u001b[0;34m\u001b[0m\u001b[0;34m\u001b[0m\u001b[0m\n\u001b[0m\u001b[1;32m    316\u001b[0m \u001b[0;34m\u001b[0m\u001b[0m\n\u001b[1;32m    317\u001b[0m     \u001b[0;32mdef\u001b[0m \u001b[0mget_wind\u001b[0m\u001b[0;34m(\u001b[0m\u001b[0mself\u001b[0m\u001b[0;34m)\u001b[0m\u001b[0;34m:\u001b[0m\u001b[0;34m\u001b[0m\u001b[0;34m\u001b[0m\u001b[0m\n",
      "\u001b[0;32m/PowerSimData/powersimdata/input/transform_profile.py\u001b[0m in \u001b[0;36mget_profile\u001b[0;34m(self, name)\u001b[0m\n\u001b[1;32m    128\u001b[0m             \u001b[0;32mreturn\u001b[0m \u001b[0mself\u001b[0m\u001b[0;34m.\u001b[0m\u001b[0m_get_demand_profile\u001b[0m\u001b[0;34m(\u001b[0m\u001b[0;34m)\u001b[0m\u001b[0;34m\u001b[0m\u001b[0;34m\u001b[0m\u001b[0m\n\u001b[1;32m    129\u001b[0m         \u001b[0;32melse\u001b[0m\u001b[0;34m:\u001b[0m\u001b[0;34m\u001b[0m\u001b[0;34m\u001b[0m\u001b[0m\n\u001b[0;32m--> 130\u001b[0;31m             \u001b[0;32mreturn\u001b[0m \u001b[0mself\u001b[0m\u001b[0;34m.\u001b[0m\u001b[0m_get_renewable_profile\u001b[0m\u001b[0;34m(\u001b[0m\u001b[0mname\u001b[0m\u001b[0;34m)\u001b[0m\u001b[0;34m\u001b[0m\u001b[0;34m\u001b[0m\u001b[0m\n\u001b[0m",
      "\u001b[0;32m/PowerSimData/powersimdata/input/transform_profile.py\u001b[0m in \u001b[0;36m_get_renewable_profile\u001b[0;34m(self, resource)\u001b[0m\n\u001b[1;32m     58\u001b[0m         )\n\u001b[1;32m     59\u001b[0m \u001b[0;34m\u001b[0m\u001b[0m\n\u001b[0;32m---> 60\u001b[0;31m         \u001b[0mprofile\u001b[0m \u001b[0;34m=\u001b[0m \u001b[0mself\u001b[0m\u001b[0;34m.\u001b[0m\u001b[0m_input_data\u001b[0m\u001b[0;34m.\u001b[0m\u001b[0mget_data\u001b[0m\u001b[0;34m(\u001b[0m\u001b[0mself\u001b[0m\u001b[0;34m.\u001b[0m\u001b[0mscenario_info\u001b[0m\u001b[0;34m,\u001b[0m \u001b[0mresource\u001b[0m\u001b[0;34m)\u001b[0m\u001b[0;34m[\u001b[0m\u001b[0mplant_id\u001b[0m\u001b[0;34m]\u001b[0m\u001b[0;34m\u001b[0m\u001b[0;34m\u001b[0m\u001b[0m\n\u001b[0m\u001b[1;32m     61\u001b[0m         \u001b[0mscaled_profile\u001b[0m \u001b[0;34m=\u001b[0m \u001b[0mself\u001b[0m\u001b[0;34m.\u001b[0m\u001b[0m_scale_plant_profile\u001b[0m\u001b[0;34m(\u001b[0m\u001b[0mprofile\u001b[0m\u001b[0;34m)\u001b[0m\u001b[0;34m\u001b[0m\u001b[0;34m\u001b[0m\u001b[0m\n\u001b[1;32m     62\u001b[0m \u001b[0;34m\u001b[0m\u001b[0m\n",
      "\u001b[0;32m/PowerSimData/powersimdata/input/input_data.py\u001b[0m in \u001b[0;36mget_data\u001b[0;34m(self, scenario_info, field_name)\u001b[0m\n\u001b[1;32m     97\u001b[0m             \u001b[0;32mreturn\u001b[0m \u001b[0mcached\u001b[0m\u001b[0;34m\u001b[0m\u001b[0;34m\u001b[0m\u001b[0m\n\u001b[1;32m     98\u001b[0m         \u001b[0;32mtry\u001b[0m\u001b[0;34m:\u001b[0m\u001b[0;34m\u001b[0m\u001b[0;34m\u001b[0m\u001b[0m\n\u001b[0;32m---> 99\u001b[0;31m             \u001b[0mdata\u001b[0m \u001b[0;34m=\u001b[0m \u001b[0m_read_data\u001b[0m\u001b[0;34m(\u001b[0m\u001b[0mfilepath\u001b[0m\u001b[0;34m)\u001b[0m\u001b[0;34m\u001b[0m\u001b[0;34m\u001b[0m\u001b[0m\n\u001b[0m\u001b[1;32m    100\u001b[0m         \u001b[0;32mexcept\u001b[0m \u001b[0mFileNotFoundError\u001b[0m\u001b[0;34m:\u001b[0m\u001b[0;34m\u001b[0m\u001b[0;34m\u001b[0m\u001b[0m\n\u001b[1;32m    101\u001b[0m             print(\n",
      "\u001b[0;32m/PowerSimData/powersimdata/input/input_data.py\u001b[0m in \u001b[0;36m_read_data\u001b[0;34m(filepath)\u001b[0m\n\u001b[1;32m    131\u001b[0m         \u001b[0mdata\u001b[0m \u001b[0;34m=\u001b[0m \u001b[0mpd\u001b[0m\u001b[0;34m.\u001b[0m\u001b[0mread_pickle\u001b[0m\u001b[0;34m(\u001b[0m\u001b[0mfilepath\u001b[0m\u001b[0;34m)\u001b[0m\u001b[0;34m\u001b[0m\u001b[0;34m\u001b[0m\u001b[0m\n\u001b[1;32m    132\u001b[0m     \u001b[0;32melif\u001b[0m \u001b[0mext\u001b[0m \u001b[0;34m==\u001b[0m \u001b[0;34m\"csv\"\u001b[0m\u001b[0;34m:\u001b[0m\u001b[0;34m\u001b[0m\u001b[0;34m\u001b[0m\u001b[0m\n\u001b[0;32m--> 133\u001b[0;31m         \u001b[0mdata\u001b[0m \u001b[0;34m=\u001b[0m \u001b[0mpd\u001b[0m\u001b[0;34m.\u001b[0m\u001b[0mread_csv\u001b[0m\u001b[0;34m(\u001b[0m\u001b[0mfilepath\u001b[0m\u001b[0;34m,\u001b[0m \u001b[0mindex_col\u001b[0m\u001b[0;34m=\u001b[0m\u001b[0;36m0\u001b[0m\u001b[0;34m,\u001b[0m \u001b[0mparse_dates\u001b[0m\u001b[0;34m=\u001b[0m\u001b[0;32mTrue\u001b[0m\u001b[0;34m)\u001b[0m\u001b[0;34m\u001b[0m\u001b[0;34m\u001b[0m\u001b[0m\n\u001b[0m\u001b[1;32m    134\u001b[0m         \u001b[0mdata\u001b[0m\u001b[0;34m.\u001b[0m\u001b[0mcolumns\u001b[0m \u001b[0;34m=\u001b[0m \u001b[0mdata\u001b[0m\u001b[0;34m.\u001b[0m\u001b[0mcolumns\u001b[0m\u001b[0;34m.\u001b[0m\u001b[0mastype\u001b[0m\u001b[0;34m(\u001b[0m\u001b[0mint\u001b[0m\u001b[0;34m)\u001b[0m\u001b[0;34m\u001b[0m\u001b[0;34m\u001b[0m\u001b[0m\n\u001b[1;32m    135\u001b[0m     \u001b[0;32melif\u001b[0m \u001b[0mext\u001b[0m \u001b[0;34m==\u001b[0m \u001b[0;34m\"mat\"\u001b[0m\u001b[0;34m:\u001b[0m\u001b[0;34m\u001b[0m\u001b[0;34m\u001b[0m\u001b[0m\n",
      "\u001b[0;32m/usr/local/lib/python3.8/site-packages/pandas/io/parsers.py\u001b[0m in \u001b[0;36mread_csv\u001b[0;34m(filepath_or_buffer, sep, delimiter, header, names, index_col, usecols, squeeze, prefix, mangle_dupe_cols, dtype, engine, converters, true_values, false_values, skipinitialspace, skiprows, skipfooter, nrows, na_values, keep_default_na, na_filter, verbose, skip_blank_lines, parse_dates, infer_datetime_format, keep_date_col, date_parser, dayfirst, cache_dates, iterator, chunksize, compression, thousands, decimal, lineterminator, quotechar, quoting, doublequote, escapechar, comment, encoding, dialect, error_bad_lines, warn_bad_lines, delim_whitespace, low_memory, memory_map, float_precision, storage_options)\u001b[0m\n\u001b[1;32m    608\u001b[0m     \u001b[0mkwds\u001b[0m\u001b[0;34m.\u001b[0m\u001b[0mupdate\u001b[0m\u001b[0;34m(\u001b[0m\u001b[0mkwds_defaults\u001b[0m\u001b[0;34m)\u001b[0m\u001b[0;34m\u001b[0m\u001b[0;34m\u001b[0m\u001b[0m\n\u001b[1;32m    609\u001b[0m \u001b[0;34m\u001b[0m\u001b[0m\n\u001b[0;32m--> 610\u001b[0;31m     \u001b[0;32mreturn\u001b[0m \u001b[0m_read\u001b[0m\u001b[0;34m(\u001b[0m\u001b[0mfilepath_or_buffer\u001b[0m\u001b[0;34m,\u001b[0m \u001b[0mkwds\u001b[0m\u001b[0;34m)\u001b[0m\u001b[0;34m\u001b[0m\u001b[0;34m\u001b[0m\u001b[0m\n\u001b[0m\u001b[1;32m    611\u001b[0m \u001b[0;34m\u001b[0m\u001b[0m\n\u001b[1;32m    612\u001b[0m \u001b[0;34m\u001b[0m\u001b[0m\n",
      "\u001b[0;32m/usr/local/lib/python3.8/site-packages/pandas/io/parsers.py\u001b[0m in \u001b[0;36m_read\u001b[0;34m(filepath_or_buffer, kwds)\u001b[0m\n\u001b[1;32m    460\u001b[0m \u001b[0;34m\u001b[0m\u001b[0m\n\u001b[1;32m    461\u001b[0m     \u001b[0;31m# Create the parser.\u001b[0m\u001b[0;34m\u001b[0m\u001b[0;34m\u001b[0m\u001b[0;34m\u001b[0m\u001b[0m\n\u001b[0;32m--> 462\u001b[0;31m     \u001b[0mparser\u001b[0m \u001b[0;34m=\u001b[0m \u001b[0mTextFileReader\u001b[0m\u001b[0;34m(\u001b[0m\u001b[0mfilepath_or_buffer\u001b[0m\u001b[0;34m,\u001b[0m \u001b[0;34m**\u001b[0m\u001b[0mkwds\u001b[0m\u001b[0;34m)\u001b[0m\u001b[0;34m\u001b[0m\u001b[0;34m\u001b[0m\u001b[0m\n\u001b[0m\u001b[1;32m    463\u001b[0m \u001b[0;34m\u001b[0m\u001b[0m\n\u001b[1;32m    464\u001b[0m     \u001b[0;32mif\u001b[0m \u001b[0mchunksize\u001b[0m \u001b[0;32mor\u001b[0m \u001b[0miterator\u001b[0m\u001b[0;34m:\u001b[0m\u001b[0;34m\u001b[0m\u001b[0;34m\u001b[0m\u001b[0m\n",
      "\u001b[0;32m/usr/local/lib/python3.8/site-packages/pandas/io/parsers.py\u001b[0m in \u001b[0;36m__init__\u001b[0;34m(self, f, engine, **kwds)\u001b[0m\n\u001b[1;32m    817\u001b[0m             \u001b[0mself\u001b[0m\u001b[0;34m.\u001b[0m\u001b[0moptions\u001b[0m\u001b[0;34m[\u001b[0m\u001b[0;34m\"has_index_names\"\u001b[0m\u001b[0;34m]\u001b[0m \u001b[0;34m=\u001b[0m \u001b[0mkwds\u001b[0m\u001b[0;34m[\u001b[0m\u001b[0;34m\"has_index_names\"\u001b[0m\u001b[0;34m]\u001b[0m\u001b[0;34m\u001b[0m\u001b[0;34m\u001b[0m\u001b[0m\n\u001b[1;32m    818\u001b[0m \u001b[0;34m\u001b[0m\u001b[0m\n\u001b[0;32m--> 819\u001b[0;31m         \u001b[0mself\u001b[0m\u001b[0;34m.\u001b[0m\u001b[0m_engine\u001b[0m \u001b[0;34m=\u001b[0m \u001b[0mself\u001b[0m\u001b[0;34m.\u001b[0m\u001b[0m_make_engine\u001b[0m\u001b[0;34m(\u001b[0m\u001b[0mself\u001b[0m\u001b[0;34m.\u001b[0m\u001b[0mengine\u001b[0m\u001b[0;34m)\u001b[0m\u001b[0;34m\u001b[0m\u001b[0;34m\u001b[0m\u001b[0m\n\u001b[0m\u001b[1;32m    820\u001b[0m \u001b[0;34m\u001b[0m\u001b[0m\n\u001b[1;32m    821\u001b[0m     \u001b[0;32mdef\u001b[0m \u001b[0mclose\u001b[0m\u001b[0;34m(\u001b[0m\u001b[0mself\u001b[0m\u001b[0;34m)\u001b[0m\u001b[0;34m:\u001b[0m\u001b[0;34m\u001b[0m\u001b[0;34m\u001b[0m\u001b[0m\n",
      "\u001b[0;32m/usr/local/lib/python3.8/site-packages/pandas/io/parsers.py\u001b[0m in \u001b[0;36m_make_engine\u001b[0;34m(self, engine)\u001b[0m\n\u001b[1;32m   1048\u001b[0m             )\n\u001b[1;32m   1049\u001b[0m         \u001b[0;31m# error: Too many arguments for \"ParserBase\"\u001b[0m\u001b[0;34m\u001b[0m\u001b[0;34m\u001b[0m\u001b[0;34m\u001b[0m\u001b[0m\n\u001b[0;32m-> 1050\u001b[0;31m         \u001b[0;32mreturn\u001b[0m \u001b[0mmapping\u001b[0m\u001b[0;34m[\u001b[0m\u001b[0mengine\u001b[0m\u001b[0;34m]\u001b[0m\u001b[0;34m(\u001b[0m\u001b[0mself\u001b[0m\u001b[0;34m.\u001b[0m\u001b[0mf\u001b[0m\u001b[0;34m,\u001b[0m \u001b[0;34m**\u001b[0m\u001b[0mself\u001b[0m\u001b[0;34m.\u001b[0m\u001b[0moptions\u001b[0m\u001b[0;34m)\u001b[0m  \u001b[0;31m# type: ignore[call-arg]\u001b[0m\u001b[0;34m\u001b[0m\u001b[0;34m\u001b[0m\u001b[0m\n\u001b[0m\u001b[1;32m   1051\u001b[0m \u001b[0;34m\u001b[0m\u001b[0m\n\u001b[1;32m   1052\u001b[0m     \u001b[0;32mdef\u001b[0m \u001b[0m_failover_to_python\u001b[0m\u001b[0;34m(\u001b[0m\u001b[0mself\u001b[0m\u001b[0;34m)\u001b[0m\u001b[0;34m:\u001b[0m\u001b[0;34m\u001b[0m\u001b[0;34m\u001b[0m\u001b[0m\n",
      "\u001b[0;32m/usr/local/lib/python3.8/site-packages/pandas/io/parsers.py\u001b[0m in \u001b[0;36m__init__\u001b[0;34m(self, src, **kwds)\u001b[0m\n\u001b[1;32m   1896\u001b[0m \u001b[0;34m\u001b[0m\u001b[0m\n\u001b[1;32m   1897\u001b[0m         \u001b[0;32mtry\u001b[0m\u001b[0;34m:\u001b[0m\u001b[0;34m\u001b[0m\u001b[0;34m\u001b[0m\u001b[0m\n\u001b[0;32m-> 1898\u001b[0;31m             \u001b[0mself\u001b[0m\u001b[0;34m.\u001b[0m\u001b[0m_reader\u001b[0m \u001b[0;34m=\u001b[0m \u001b[0mparsers\u001b[0m\u001b[0;34m.\u001b[0m\u001b[0mTextReader\u001b[0m\u001b[0;34m(\u001b[0m\u001b[0mself\u001b[0m\u001b[0;34m.\u001b[0m\u001b[0mhandles\u001b[0m\u001b[0;34m.\u001b[0m\u001b[0mhandle\u001b[0m\u001b[0;34m,\u001b[0m \u001b[0;34m**\u001b[0m\u001b[0mkwds\u001b[0m\u001b[0;34m)\u001b[0m\u001b[0;34m\u001b[0m\u001b[0;34m\u001b[0m\u001b[0m\n\u001b[0m\u001b[1;32m   1899\u001b[0m         \u001b[0;32mexcept\u001b[0m \u001b[0mException\u001b[0m\u001b[0;34m:\u001b[0m\u001b[0;34m\u001b[0m\u001b[0;34m\u001b[0m\u001b[0m\n\u001b[1;32m   1900\u001b[0m             \u001b[0mself\u001b[0m\u001b[0;34m.\u001b[0m\u001b[0mhandles\u001b[0m\u001b[0;34m.\u001b[0m\u001b[0mclose\u001b[0m\u001b[0;34m(\u001b[0m\u001b[0;34m)\u001b[0m\u001b[0;34m\u001b[0m\u001b[0;34m\u001b[0m\u001b[0m\n",
      "\u001b[0;32mpandas/_libs/parsers.pyx\u001b[0m in \u001b[0;36mpandas._libs.parsers.TextReader.__cinit__\u001b[0;34m()\u001b[0m\n",
      "\u001b[0;31mEmptyDataError\u001b[0m: No columns to parse from file"
     ]
    }
   ],
   "source": [
    "scenario.get_solar()"
   ]
  },
  {
   "cell_type": "markdown",
   "id": "5eeea4e1",
   "metadata": {},
   "source": [
    "### Congestion analysis"
   ]
  },
  {
   "cell_type": "code",
   "execution_count": 13,
   "id": "3ae83567",
   "metadata": {},
   "outputs": [
    {
     "data": {
      "text/plain": [
       "type                  1\n",
       "Pd                  0.0\n",
       "Qd                  0.0\n",
       "Gs                  0.0\n",
       "Bs                  0.0\n",
       "zone_id              39\n",
       "Vm              1.03869\n",
       "Va              16.9273\n",
       "baseKV             69.0\n",
       "loss_zone             1\n",
       "Vmax                1.1\n",
       "Vmin                0.9\n",
       "lam_P             63.95\n",
       "lam_Q               0.0\n",
       "mu_Vmax             0.0\n",
       "mu_Vmin             0.0\n",
       "interconnect    Eastern\n",
       "lat             42.3388\n",
       "lon            -95.2962\n",
       "Name: 54057, dtype: object"
      ]
     },
     "execution_count": 13,
     "metadata": {},
     "output_type": "execute_result"
    }
   ],
   "source": [
    "congu_yearly = (congu.sum(axis = 0)[congu.sum(axis = 0)!=0]).sort_values(ascending=False) # annual positive direction congestion\n",
    "congl_yearly = (congl.sum(axis = 0)[congl.sum(axis = 0)!=0]).sort_values(ascending=False) # annual negative direction congestion\n",
    "congl_yearly.at[68928] # get annual congestion on branch 68928\n",
    "congl[68928] # get hourly congestion on branch 68928\n",
    "congl[68928].astype(bool).sum(axis=0) # get annual total binding hours on 68928\n",
    "grid.branch.loc[68928] # review information of branch 68928\n",
    "grid.bus.loc[54070] # review from bus information of branch 68928\n",
    "grid.bus.loc[54057] # review to bus information of branch 68928"
   ]
  },
  {
   "cell_type": "markdown",
   "id": "c9eac2ea",
   "metadata": {},
   "source": [
    "### Retrive other types of output"
   ]
  },
  {
   "cell_type": "code",
   "execution_count": null,
   "id": "cb1bda47",
   "metadata": {},
   "outputs": [
    {
     "name": "stdout",
     "output_type": "stream",
     "text": [
      "--> Loading PF\n"
     ]
    }
   ],
   "source": [
    "pf_ac = scenario.get_pf() # get hourly generation output on units\n",
    "pg_storage = scenario.get_storage_pg() # get generation profile for storage (if present in scenario)\n",
    "e_storage = scenario.get_storage_e() # get energy state of charge of storage (if present in scenario)\n",
    "pf_ac = scenario.get_pf() # get hourly power flow for AC lines\n",
    "pf_dc = scenario.get_dcline_pf() # get hourly power flow for DC lines\n",
    "lmp = scenario.get_lmp() # get hourly bus locational marginal price"
   ]
  },
  {
   "cell_type": "markdown",
   "id": "44d647a4",
   "metadata": {},
   "source": [
    "### Create scenarios and upgrade congested transmission line"
   ]
  },
  {
   "cell_type": "code",
   "execution_count": 7,
   "id": "299f8bba",
   "metadata": {},
   "outputs": [
    {
     "name": "stdout",
     "output_type": "stream",
     "text": [
      "Reading bus.csv\n",
      "Reading plant.csv\n",
      "Reading gencost.csv\n",
      "Reading branch.csv\n",
      "Reading dcline.csv\n",
      "Reading sub.csv\n",
      "Reading bus2sub.csv\n",
      "Reading zone.csv\n",
      "--> Summary\n",
      "# Existing study\n",
      "test\n",
      "# Available profiles\n",
      "demand: vJan2021\n",
      "hydro: vJan2021\n",
      "solar: vJan2021\n",
      "wind: vJan2021\n"
     ]
    }
   ],
   "source": [
    "from powersimdata import Scenario\n",
    "scenario = Scenario('')\n",
    "scenario.set_builder(grid_model=\"usa_tamu\", interconnect=\"Eastern\")\n",
    "scenario.set_name(\"MISONC_MTEP16_MEP\", \"training\")\n",
    "scenario.set_time(\"2016-01-01 00:00:00\",\"2016-01-31 23:00:00\",\"24H\")\n",
    "scenario.set_base_profile(\"demand\", \"vJan2021\")\n",
    "scenario.set_base_profile(\"hydro\", \"vJan2021\")\n",
    "scenario.set_base_profile(\"solar\", \"vJan2021\")\n",
    "scenario.set_base_profile(\"wind\", \"vJan2021\")\n",
    "\n",
    "scenario.change_table.scale_branch_capacity(branch_id = {68928: 17.28})\n",
    "\n",
    "grid = scenario.get_grid()\n",
    "ct = scenario.get_ct()\n"
   ]
  },
  {
   "cell_type": "markdown",
   "id": "1291909c",
   "metadata": {},
   "source": [
    "### Use the change table to modify conditions"
   ]
  },
  {
   "cell_type": "code",
   "execution_count": 9,
   "id": "cdac3121",
   "metadata": {},
   "outputs": [],
   "source": [
    "scenario.change_table.scale_plant_capacity(\n",
    "    \"solar\", zone_name={\"Arkansas\": 5, \"Louisiana\": 2.5})\n",
    "scenario.change_table.scale_plant_capacity(\n",
    "    \"wind\", zone_name={\"Iowa\": 1.5, \"Minnesota Southern\": 2})\n",
    "scenario.change_table.scale_branch_capacity(\n",
    "    zone_name={\"Iowa\": 2, \"Minnesota Southern\": 2})\n",
    "scenario.change_table.add_branch(\n",
    "    [{\"capacity\": 236, \"from_bus_id\": 54070, \"to_bus_id\": 54057}])\n",
    "scenario.change_table.add_dcline(\n",
    "    [{\"capacity\": 2000, \"from_bus_id\":55119, \"to_bus_id\": 1213}])\n",
    "scenario.change_table.add_plant(\n",
    "    [{\"type\": \"solar\", \"bus_id\": 1899, \"Pmax\": 75},\n",
    "     {\"type\": \"coal\", \"bus_id\": 54070, \"Pmin\": 25, \"Pmax\": 750, \"c0\": 1800, \"c1\": 30, \"c2\": 0.0025},\n",
    "     {\"type\": \"ng\", \"bus_id\": 60911, \"Pmax\": 75, \"c0\": 900, \"c1\": 30, \"c2\": 0.0015}])\n",
    "scenario.change_table.add_bus(\n",
    "\t[{\"lat\": 35, \"lon\": -90, \"zone_id\": 42, \"baseKV\": 500}])\n",
    "scenario.change_table.add_dcline(\n",
    "\t[{\"from_bus_id\": 1899, \"to_bus_id\": 70048, \"Pmin\": 0, \"Pmax\": 200}])\n"
   ]
  },
  {
   "cell_type": "markdown",
   "id": "250420fe",
   "metadata": {},
   "source": [
    "### Review the scenario and change table, the launch simulation"
   ]
  },
  {
   "cell_type": "code",
   "execution_count": 10,
   "id": "01a34b4f",
   "metadata": {},
   "outputs": [
    {
     "name": "stdout",
     "output_type": "stream",
     "text": [
      "--------------------\n",
      "SCENARIO INFORMATION\n",
      "--------------------\n",
      "plan: MISONC_MTEP16_MEP\n",
      "name: training\n",
      "state: create\n",
      "grid_model: usa_tamu\n",
      "interconnect: Eastern\n",
      "base_demand: vJan2021\n",
      "base_hydro: vJan2021\n",
      "base_solar: vJan2021\n",
      "base_wind: vJan2021\n",
      "change_table: Yes\n",
      "start_date: 2016-01-01 00:00:00\n",
      "end_date: 2016-01-31 23:00:00\n",
      "interval: 24H\n",
      "engine: REISE.jl\n"
     ]
    }
   ],
   "source": [
    "grid = scenario.get_grid()\n",
    "ct = scenario.get_ct()\n",
    "scenario.print_scenario_info()\n",
    "\n",
    "# scenario.create_scenario()\n",
    "\n",
    "# print(scenario.state.name)\n",
    "# scenario.state.print_scenario_status()\n",
    "\n",
    "# from powersimdata.scenario.scenario import Scenario\n",
    "# scenario = Scenario(\"training\")\n",
    "# scenario.print_scenario_info()\n",
    "# scenario.state.prepare_simulation_input()\n",
    "\n",
    "# process_run = scenario.state.launch_simulation(threads=8)\n",
    "# process_run = scenario.state.launch_simulation(extract_data=False)\n",
    "\n",
    "\n",
    "# process_run = scenario.state.launch_simulation()\n",
    "# scenario.state.print_scenario_status()\n",
    "\n",
    "# process_extract = scenario.state.extract_simulation_output()\n",
    "\n"
   ]
  },
  {
   "cell_type": "code",
   "execution_count": null,
   "id": "f2e76a76",
   "metadata": {},
   "outputs": [],
   "source": [
    "pg = scenario.state.get_pg()\n",
    "pf_ac = scenario.state.get_pf()\n",
    "pf_dc = scenario.state.get_dcline_pf()\n",
    "lmp = scenario.state.get_lmp()\n",
    "\n",
    "cc_l = pf_ac * congl\n",
    "cc_u = pf_ac * congu\n",
    "\n",
    "cc_l_yearly = (cc_l.sum(axis = 0)[cc_l.sum(axis = 0)!=0]).sort_values(ascending=False)\n",
    "\n",
    "cc_u_yearly = (cc_u.sum(axis = 0)[cc_u.sum(axis = 0)!=0]).sort_values(ascending=False)\n"
   ]
  },
  {
   "cell_type": "code",
   "execution_count": null,
   "id": "f5751705",
   "metadata": {},
   "outputs": [],
   "source": [
    "from powersimdata.design.transmission.mwmiles import calculate_mw_miles\n",
    "calculate_mw_miles(scenario)\n",
    "\n",
    "from powersimdata.design.transmission.statelines import classify_interstate_intrastate\n",
    "classify_interstate_intrastate(scenario)\n",
    "\n",
    "from powersimdata.design.generation.cost_curves import get_supply_data\n",
    "supply_df = get_supply_data(grid,1)\n",
    "\n",
    "from powersimdata.design.generation.cost_curves import build_supply_curve\n",
    "P, F = P, F = build_supply_curve(grid, 1, 'Louisiana', 'ng’)\n",
    "\n",
    "from powersimdata.design.generation.cost_curves import ks_test\n",
    "max_diff = ks_test(P, F, P, F, 'Louisiana', 'ng')\n",
    "max_diff\n"
   ]
  },
  {
   "cell_type": "code",
   "execution_count": null,
   "id": "78252773",
   "metadata": {},
   "outputs": [],
   "source": [
    "from powersimdata.design.generation.cost_curves import plot_c1_vs_c2\n",
    "plot_c1_vs_c2(grid, 'Louisiana', 'ng’)"
   ]
  },
  {
   "cell_type": "code",
   "execution_count": null,
   "id": "581497cd",
   "metadata": {},
   "outputs": [],
   "source": [
    "from powersimdata.design.generation.cost_curves import plot_capacity_vs_price\n",
    "plot_capacity_vs_price(grid, 1, 'Louisiana', 'ng')"
   ]
  },
  {
   "cell_type": "markdown",
   "id": "7dfe19e3",
   "metadata": {},
   "source": [
    "### More utilities in PostREISE"
   ]
  },
  {
   "cell_type": "code",
   "execution_count": null,
   "id": "6e81413c",
   "metadata": {},
   "outputs": [
    {
     "name": "stdout",
     "output_type": "stream",
     "text": [
      "SCENARIO: test | EasternBase_2020_3\n",
      "\n",
      "--> State\n",
      "analyze\n",
      "--> Loading grid\n",
      "Loading bus\n",
      "Loading plant\n",
      "Loading heat_rate_curve\n",
      "Loading gencost_before\n",
      "Loading gencost_after\n",
      "Loading branch\n",
      "Loading dcline\n",
      "Loading sub\n",
      "Loading bus2sub\n",
      "--> Loading ct\n",
      "--> Loading PF\n"
     ]
    }
   ],
   "source": [
    "from powersimdata.scenario.scenario import Scenario\n",
    "scenario = Scenario(403) \n",
    "grid = scenario.state.get_grid()\n",
    "pf_ac = scenario.state.get_pf()\n",
    "\n",
    "from postreise.analyze.transmission.congestion import *\n",
    "cs = calculate_congestion_surplus(scenario)\n",
    "\n",
    "from postreise.analyze.transmission.utilization import *\n",
    "cong_all = generate_cong_stats(pf_ac, grid.branch)\n",
    "cong_all.head(n=20)\n",
    "ut_df = get_utilization(grid.branch, pf_ac, median = True)\n",
    "\n",
    "from postreise.plot.plot_utilization_map import *\n",
    "map_utilization(ut_df,grid.branch)"
   ]
  },
  {
   "cell_type": "code",
   "execution_count": 1,
   "id": "d149b107",
   "metadata": {},
   "outputs": [
    {
     "ename": "NameError",
     "evalue": "name 'scenario' is not defined",
     "output_type": "error",
     "traceback": [
      "\u001b[0;31m\u001b[0m",
      "\u001b[0;31mNameError\u001b[0mTraceback (most recent call last)",
      "\u001b[0;32m<ipython-input-1-07b82468b3aa>\u001b[0m in \u001b[0;36m<module>\u001b[0;34m\u001b[0m\n\u001b[1;32m      1\u001b[0m \u001b[0;32mfrom\u001b[0m \u001b[0mpostreise\u001b[0m\u001b[0;34m.\u001b[0m\u001b[0manalyze\u001b[0m\u001b[0;34m.\u001b[0m\u001b[0mgeneration\u001b[0m\u001b[0;34m.\u001b[0m\u001b[0memissions\u001b[0m \u001b[0;32mimport\u001b[0m \u001b[0;34m*\u001b[0m\u001b[0;34m\u001b[0m\u001b[0;34m\u001b[0m\u001b[0m\n\u001b[0;32m----> 2\u001b[0;31m \u001b[0memissions\u001b[0m \u001b[0;34m=\u001b[0m \u001b[0mgenerate_emissions_stats\u001b[0m\u001b[0;34m(\u001b[0m\u001b[0mscenario\u001b[0m\u001b[0;34m)\u001b[0m\u001b[0;34m\u001b[0m\u001b[0;34m\u001b[0m\u001b[0m\n\u001b[0m\u001b[1;32m      3\u001b[0m \u001b[0memissions_bus\u001b[0m \u001b[0;34m=\u001b[0m \u001b[0msummarize_emissions_by_bus\u001b[0m\u001b[0;34m(\u001b[0m\u001b[0memissions\u001b[0m\u001b[0;34m,\u001b[0m \u001b[0mgrid\u001b[0m\u001b[0;34m)\u001b[0m\u001b[0;34m\u001b[0m\u001b[0;34m\u001b[0m\u001b[0m\n\u001b[1;32m      4\u001b[0m \u001b[0;34m\u001b[0m\u001b[0m\n\u001b[1;32m      5\u001b[0m \u001b[0;32mfrom\u001b[0m \u001b[0mpostreise\u001b[0m\u001b[0;34m.\u001b[0m\u001b[0manalyze\u001b[0m\u001b[0;34m.\u001b[0m\u001b[0mgeneration\u001b[0m\u001b[0;34m.\u001b[0m\u001b[0mcurtailment\u001b[0m \u001b[0;32mimport\u001b[0m \u001b[0;34m*\u001b[0m\u001b[0;34m\u001b[0m\u001b[0;34m\u001b[0m\u001b[0m\n",
      "\u001b[0;31mNameError\u001b[0m: name 'scenario' is not defined"
     ]
    }
   ],
   "source": [
    "from postreise.analyze.generation.emissions import *\n",
    "emissions = generate_emissions_stats(scenario)\n",
    "emissions_bus = summarize_emissions_by_bus(emissions, grid)\n",
    "\n",
    "from postreise.analyze.generation.curtailment import *\n",
    "cur = calculate_curtailment_time_series(scenario)\n",
    "calculate_curtailment_time_series_by_resources(scenario, resources={\"solar\", \"wind\"})\n",
    "calculate_curtailment_time_series_by_areas(scenario, areas={\"interconnect\": {\"Eastern\"}, \"state\": {\"Iowa\", \"Minnesota\"}, \"loadzone\": {\"Iowa\", \"Minnesota Southern\"}})\n",
    "calculate_curtailment_time_series_by_areas_and_resources(scenario, areas={\"interconnect\": {\"Eastern\"}, \"state\": {\"Iowa\"}, \"loadzone\": {\"Iowa\"}}, resources={\"solar\", \"wind\"})\n",
    "cur.max()\n",
    "cur.max().max()\n",
    "cur.at['2016-01-04 19:00:00', 32]\n",
    "summarize_curtailment_by_bus(scenario)\n",
    "calculate_curtailment_percentage_by_resources(scenario, resources={'wind'})\n"
   ]
  },
  {
   "cell_type": "code",
   "execution_count": null,
   "id": "bc33ece9",
   "metadata": {},
   "outputs": [],
   "source": [
    "from postreise.plot.plot_utilization_map import *\n",
    "map_utilization(ut_df,grid.branch)\n"
   ]
  }
 ],
 "metadata": {
  "kernelspec": {
   "display_name": "Python 3",
   "language": "python",
   "name": "python3"
  },
  "language_info": {
   "codemirror_mode": {
    "name": "ipython",
    "version": 3
   },
   "file_extension": ".py",
   "mimetype": "text/x-python",
   "name": "python",
   "nbconvert_exporter": "python",
   "pygments_lexer": "ipython3",
   "version": "3.8.3"
  },
  "toc-autonumbering": false,
  "toc-showcode": true,
  "toc-showmarkdowntxt": true,
  "toc-showtags": false
 },
 "nbformat": 4,
 "nbformat_minor": 5
}
