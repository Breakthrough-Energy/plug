{
 "cells": [
  {
   "cell_type": "markdown",
   "id": "94100eac",
   "metadata": {},
   "source": [
    "### Load base scenario grid data and results"
   ]
  },
  {
   "cell_type": "code",
   "execution_count": 1,
   "id": "2362ea38",
   "metadata": {},
   "outputs": [
    {
     "name": "stdout",
     "output_type": "stream",
     "text": [
      "SCENARIO: test | EasternBase_2020_3\n",
      "\n",
      "--> State\n",
      "analyze\n",
      "--> Loading grid\n",
      "Loading bus\n",
      "Loading plant\n",
      "Loading heat_rate_curve\n",
      "Loading gencost_before\n",
      "Loading gencost_after\n",
      "Loading branch\n",
      "Loading dcline\n",
      "Loading sub\n",
      "Loading bus2sub\n",
      "--> Loading ct\n",
      "--------------------\n",
      "SCENARIO INFORMATION\n",
      "--------------------\n",
      "id: 403\n",
      "plan: test\n",
      "name: EasternBase_2020_3\n",
      "state: analyze\n",
      "grid_model: usa_tamu\n",
      "interconnect: Eastern\n",
      "base_demand: vJan2021\n",
      "base_hydro: vJan2021\n",
      "base_solar: vJan2021\n",
      "base_wind: vJan2021\n",
      "change_table: Yes\n",
      "start_date: 2016-01-01 00:00:00\n",
      "end_date: 2016-12-31 23:00:00\n",
      "interval: 24H\n",
      "engine: REISE\n",
      "runtime: 18:21\n",
      "infeasibilities: \n",
      "--> Loading LOAD_SHED\n",
      "--> Loading CONGU\n",
      "--> Loading CONGL\n"
     ]
    }
   ],
   "source": [
    "from powersimdata import Scenario\n",
    "scenario = Scenario(403) # load scenario #403, which is the EI 2016 base case\n",
    "scenario.print_scenario_info()\n",
    "ct= scenario.get_ct()\n",
    "grid = scenario.get_grid()\n",
    "load_shed= scenario.get_load_shed()\n",
    "congu= scenario.get_congu() # get positive direction hourly branch congestion\n",
    "congl= scenario.get_congl() # get negative direction hourly branch congestion"
   ]
  },
  {
   "cell_type": "markdown",
   "id": "da8d4b45",
   "metadata": {},
   "source": [
    "### Congestion analysis"
   ]
  },
  {
   "cell_type": "code",
   "execution_count": 2,
   "id": "03d53101",
   "metadata": {},
   "outputs": [
    {
     "data": {
      "text/plain": [
       "type                  1\n",
       "Pd                  0.0\n",
       "Qd                  0.0\n",
       "Gs                  0.0\n",
       "Bs                  0.0\n",
       "zone_id              39\n",
       "Vm              1.03869\n",
       "Va              16.9273\n",
       "baseKV             69.0\n",
       "loss_zone             1\n",
       "Vmax                1.1\n",
       "Vmin                0.9\n",
       "lam_P             63.95\n",
       "lam_Q               0.0\n",
       "mu_Vmax             0.0\n",
       "mu_Vmin             0.0\n",
       "interconnect    Eastern\n",
       "lat             42.3388\n",
       "lon            -95.2962\n",
       "Name: 54057, dtype: object"
      ]
     },
     "execution_count": 2,
     "metadata": {},
     "output_type": "execute_result"
    }
   ],
   "source": [
    "congu_yearly = (congu.sum(axis = 0)[congu.sum(axis = 0)!=0]).sort_values(ascending=False) # annual positive direction congestion\n",
    "congl_yearly = (congl.sum(axis = 0)[congl.sum(axis = 0)!=0]).sort_values(ascending=False) # annual negative direction congestion\n",
    "congl_yearly.at[68928] # get annual congestion on branch 68928\n",
    "congl[68928] # get hourly congestion on branch 68928\n",
    "congl[68928].astype(bool).sum(axis=0) # get annual total binding hours on 68928\n",
    "grid.branch.loc[68928] # review information of branch 68928\n",
    "grid.bus.loc[54070] # review from bus information of branch 68928\n",
    "grid.bus.loc[54057] # review to bus information of branch 68928"
   ]
  },
  {
   "cell_type": "markdown",
   "id": "c7568a83",
   "metadata": {},
   "source": [
    "### Retrive other types of output"
   ]
  },
  {
   "cell_type": "code",
   "execution_count": null,
   "id": "f3fd2d97",
   "metadata": {},
   "outputs": [
    {
     "name": "stdout",
     "output_type": "stream",
     "text": [
      "--> Loading PF\n"
     ]
    }
   ],
   "source": [
    "pf_ac = scenario.get_pf() # get hourly generation output on units\n",
    "pg_storage = scenario.get_storage_pg() # get generation profile for storage (if present in scenario)\n",
    "e_storage = scenario.get_storage_e() # get energy state of charge of storage (if present in scenario)\n",
    "pf_ac = scenario.get_pf() # get hourly power flow for AC lines\n",
    "pf_dc = scenario.get_dcline_pf() # get hourly power flow for DC lines\n",
    "lmp = scenario.get_lmp() # get hourly bus locational marginal price"
   ]
  },
  {
   "cell_type": "markdown",
   "id": "4e07cf18",
   "metadata": {},
   "source": [
    "### Create scenarios and upgrade congested transmission line"
   ]
  },
  {
   "cell_type": "code",
   "execution_count": 7,
   "id": "58735cc3",
   "metadata": {},
   "outputs": [
    {
     "name": "stdout",
     "output_type": "stream",
     "text": [
      "Reading bus.csv\n",
      "Reading plant.csv\n",
      "Reading gencost.csv\n",
      "Reading branch.csv\n",
      "Reading dcline.csv\n",
      "Reading sub.csv\n",
      "Reading bus2sub.csv\n",
      "Reading zone.csv\n",
      "--> Summary\n",
      "# Existing study\n",
      "Nothing yet\n",
      "# Available profiles\n",
      "demand: vJan2021\n",
      "hydro: vJan2021\n",
      "solar: vJan2021\n",
      "wind: vJan2021\n"
     ]
    }
   ],
   "source": [
    "from powersimdata import Scenario\n",
    "scenario = Scenario('')\n",
    "scenario.set_builder(grid_model=\"usa_tamu\", interconnect=\"Eastern\")\n",
    "scenario.set_name(\"MISONC_MTEP16_MEP\", \"training\")\n",
    "scenario.set_time(\"2016-01-01 00:00:00\",\"2016-01-31 23:00:00\",\"24H\")\n",
    "scenario.set_base_profile(\"demand\", \"vJan2021\")\n",
    "scenario.set_base_profile(\"hydro\", \"vJan2021\")\n",
    "scenario.set_base_profile(\"solar\", \"vJan2021\")\n",
    "scenario.set_base_profile(\"wind\", \"vJan2021\")\n",
    "\n",
    "scenario.change_table.scale_branch_capacity(branch_id = {68928: 17.28})\n",
    "\n",
    "grid = scenario.get_grid()\n",
    "ct = scenario.get_ct()\n"
   ]
  },
  {
   "cell_type": "code",
   "execution_count": null,
   "id": "704d11ef",
   "metadata": {},
   "outputs": [],
   "source": []
  }
 ],
 "metadata": {
  "kernelspec": {
   "display_name": "Python 3",
   "language": "python",
   "name": "python3"
  },
  "language_info": {
   "codemirror_mode": {
    "name": "ipython",
    "version": 3
   },
   "file_extension": ".py",
   "mimetype": "text/x-python",
   "name": "python",
   "nbconvert_exporter": "python",
   "pygments_lexer": "ipython3",
   "version": "3.8.3"
  }
 },
 "nbformat": 4,
 "nbformat_minor": 5
}
