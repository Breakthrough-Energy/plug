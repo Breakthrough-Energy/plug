{
 "cells": [
  {
   "cell_type": "code",
   "execution_count": 1,
   "id": "4caaff6e-6fbf-4369-ad9f-f9e848101662",
   "metadata": {},
   "outputs": [],
   "source": [
    "import pandas as pd"
   ]
  },
  {
   "cell_type": "markdown",
   "id": "e2e99791-2ac5-46f8-ae32-ebfdbf83759c",
   "metadata": {},
   "source": [
    "### Intro\n",
    "Pandas is a powerful library for working with time series and tabular data. We will just scratch the surface here. \n",
    "There are great tutorials on their website, such as [10 minutes to pandas](https://pandas.pydata.org/docs/user_guide/10min.html). \n",
    "\n",
    "The purpose of introducing it here is that many of the internal data structures we use are from pandas, and many of our functions either take pandas objects as input\n",
    "or return them as output. It will be useful to have a working understanding of the operations available, especially when working with return values that are very large\n",
    "pandas data frames."
   ]
  },
  {
   "cell_type": "code",
   "execution_count": 16,
   "id": "b067948e-9377-4f8d-a917-47d53d8ebc5d",
   "metadata": {},
   "outputs": [],
   "source": [
    "# TODO"
   ]
  },
  {
   "cell_type": "code",
   "execution_count": null,
   "id": "de110b66-ffd8-48b7-88e1-4fe83838f3e6",
   "metadata": {},
   "outputs": [],
   "source": []
  }
 ],
 "metadata": {
  "kernelspec": {
   "display_name": "Python 3",
   "language": "python",
   "name": "python3"
  },
  "language_info": {
   "codemirror_mode": {
    "name": "ipython",
    "version": 3
   },
   "file_extension": ".py",
   "mimetype": "text/x-python",
   "name": "python",
   "nbconvert_exporter": "python",
   "pygments_lexer": "ipython3",
   "version": "3.8.3"
  }
 },
 "nbformat": 4,
 "nbformat_minor": 5
}
