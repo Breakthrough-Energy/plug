{
 "cells": [
  {
   "cell_type": "markdown",
   "id": "5da18968",
   "metadata": {},
   "source": [
    "### More utilities in PostREISE"
   ]
  },
  {
   "cell_type": "code",
   "execution_count": null,
   "id": "803eed8d",
   "metadata": {},
   "outputs": [
    {
     "name": "stdout",
     "output_type": "stream",
     "text": [
      "SCENARIO: test | EasternBase_2020_3\n",
      "\n",
      "--> State\n",
      "analyze\n",
      "--> Loading grid\n",
      "Loading bus\n",
      "Loading plant\n",
      "Loading heat_rate_curve\n",
      "Loading gencost_before\n",
      "Loading gencost_after\n",
      "Loading branch\n",
      "Loading dcline\n",
      "Loading sub\n",
      "Loading bus2sub\n",
      "--> Loading ct\n",
      "--> Loading PF\n",
      "--> Loading LMP\n",
      "--> Loading PG\n",
      "--> Loading demand\n"
     ]
    }
   ],
   "source": [
    "from powersimdata import Scenario\n",
    "scenario = Scenario(403) \n",
    "grid = scenario.get_grid()\n",
    "pf_ac = scenario.get_pf()\n",
    "\n",
    "from postreise.analyze.transmission.congestion import *\n",
    "cs = calculate_congestion_surplus(scenario)"
   ]
  },
  {
   "cell_type": "code",
   "execution_count": null,
   "id": "c8e9a26a-4275-4b04-b172-4dd9880acbaa",
   "metadata": {},
   "outputs": [],
   "source": [
    "from postreise.analyze.transmission.utilization import *\n",
    "# get transmission congestion and utilization statistics\n",
    "cong_all = generate_cong_stats(pf_ac, grid.branch)\n",
    "cong_all.head(n=20)"
   ]
  },
  {
   "cell_type": "code",
   "execution_count": null,
   "id": "d83017fc-e096-4127-94e5-9aa221e8bf65",
   "metadata": {},
   "outputs": [],
   "source": [
    "# get transmission utilization table\n",
    "ut_df = get_utilization(grid.branch, pf_ac, median = True)"
   ]
  },
  {
   "cell_type": "code",
   "execution_count": null,
   "id": "84ec51e1-cf41-4770-bb71-77b2dd2b916f",
   "metadata": {},
   "outputs": [],
   "source": [
    "from postreise.plot.plot_utilization_map import *\n",
    "map_utilization(ut_df,grid.branch)"
   ]
  },
  {
   "cell_type": "code",
   "execution_count": null,
   "id": "d9521cbe",
   "metadata": {},
   "outputs": [],
   "source": [
    "from postreise.analyze.generation.emissions import *\n",
    "emissions = generate_emissions_stats(scenario)\n",
    "emissions_bus = summarize_emissions_by_bus(emissions, grid)\n",
    "\n",
    "from postreise.analyze.generation.curtailment import *\n",
    "cur = calculate_curtailment_time_series(scenario)\n",
    "calculate_curtailment_time_series_by_resources(scenario, resources={\"solar\", \"wind\"})\n",
    "calculate_curtailment_time_series_by_areas(scenario, areas={\"interconnect\": {\"Eastern\"}, \"state\": {\"Iowa\", \"Minnesota\"}, \"loadzone\": {\"Iowa\", \"Minnesota Southern\"}})\n",
    "calculate_curtailment_time_series_by_areas_and_resources(scenario, areas={\"interconnect\": {\"Eastern\"}, \"state\": {\"Iowa\"}, \"loadzone\": {\"Iowa\"}}, resources={\"solar\", \"wind\"})\n",
    "cur.max()\n",
    "cur.max().max()\n",
    "cur.at['2016-01-04 19:00:00', 32]\n",
    "summarize_curtailment_by_bus(scenario)\n",
    "calculate_curtailment_percentage_by_resources(scenario, resources={'wind'})"
   ]
  }
 ],
 "metadata": {
  "kernelspec": {
   "display_name": "Python 3",
   "language": "python",
   "name": "python3"
  },
  "language_info": {
   "codemirror_mode": {
    "name": "ipython",
    "version": 3
   },
   "file_extension": ".py",
   "mimetype": "text/x-python",
   "name": "python",
   "nbconvert_exporter": "python",
   "pygments_lexer": "ipython3",
   "version": "3.8.3"
  }
 },
 "nbformat": 4,
 "nbformat_minor": 5
}
