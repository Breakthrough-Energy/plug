{
 "cells": [
  {
   "cell_type": "markdown",
   "id": "c9e8e715-7907-4547-8e02-42d405d29c9c",
   "metadata": {},
   "source": [
    "### Results Analysis and Visualization"
   ]
  },
  {
   "cell_type": "code",
   "execution_count": null,
   "id": "5465328e-67ac-4ebe-bc3f-c70ecad82c19",
   "metadata": {},
   "outputs": [],
   "source": [
    "from powersimdata.scenario.scenario import Scenario\n",
    "scenario = Scenario(\"training\") "
   ]
  },
  {
   "cell_type": "code",
   "execution_count": null,
   "id": "06c4b42a-e6b0-4685-8f53-2dbfda1897fa",
   "metadata": {},
   "outputs": [],
   "source": [
    "pg = scenario.state.get_pg()\n",
    "pf_ac = scenario.state.get_pf()\n",
    "pf_dc = scenario.state.get_dcline_pf()\n",
    "lmp = scenario.state.get_lmp()\n",
    "\n",
    "cc_l = pf_ac * congl\n",
    "cc_u = pf_ac * congu\n",
    "\n",
    "cc_l_yearly = (cc_l.sum(axis = 0)[cc_l.sum(axis = 0)!=0]).sort_values(ascending=False)\n",
    "\n",
    "cc_u_yearly = (cc_u.sum(axis = 0)[cc_u.sum(axis = 0)!=0]).sort_values(ascending=False)"
   ]
  },
  {
   "cell_type": "markdown",
   "id": "064bb0aa-2316-41b7-9c84-6cc45eb94556",
   "metadata": {},
   "source": [
    "### Some pre-built functions in PowerSimData to get useful statistics"
   ]
  },
  {
   "cell_type": "code",
   "execution_count": null,
   "id": "bdac6806-8a05-403f-be07-06b397ee7210",
   "metadata": {},
   "outputs": [],
   "source": [
    "from powersimdata.design.transmission.mwmiles import calculate_mw_miles\n",
    "calculate_mw_miles(scenario)\n",
    "\n",
    "from powersimdata.design.transmission.statelines import classify_interstate_intrastate\n",
    "classify_interstate_intrastate(scenario)\n",
    "\n",
    "from powersimdata.design.generation.cost_curves import get_supply_data\n",
    "supply_df = get_supply_data(grid,1)\n",
    "\n",
    "from powersimdata.design.generation.cost_curves import build_supply_curve\n",
    "P, F = P, F = build_supply_curve(grid, 1, 'Louisiana', 'ng’)\n"
   ]
  },
  {
   "cell_type": "code",
   "execution_count": null,
   "id": "77276871-e331-4fc7-adf4-28cc89800e6a",
   "metadata": {},
   "outputs": [],
   "source": [
    "from powersimdata.design.generation.cost_curves import ks_test\n",
    "max_diff = ks_test(P, F, P, F, 'Louisiana', 'ng')\n",
    "max_diff"
   ]
  },
  {
   "cell_type": "code",
   "execution_count": null,
   "id": "00ac9683-1745-4956-a0de-19169bfab1ad",
   "metadata": {},
   "outputs": [],
   "source": [
    "from powersimdata.design.generation.cost_curves import plot_c1_vs_c2\n",
    "plot_c1_vs_c2(grid, 'Louisiana', 'ng’)"
   ]
  },
  {
   "cell_type": "code",
   "execution_count": null,
   "id": "b3913db4-9442-4eb9-ac43-52e75b72fea7",
   "metadata": {},
   "outputs": [],
   "source": [
    "from powersimdata.design.generation.cost_curves import plot_capacity_vs_price\n",
    "plot_capacity_vs_price(grid, 1, 'Louisiana', 'ng')"
   ]
  }
 ],
 "metadata": {
  "kernelspec": {
   "display_name": "Python 3",
   "language": "python",
   "name": "python3"
  },
  "language_info": {
   "codemirror_mode": {
    "name": "ipython",
    "version": 3
   },
   "file_extension": ".py",
   "mimetype": "text/x-python",
   "name": "python",
   "nbconvert_exporter": "python",
   "pygments_lexer": "ipython3",
   "version": "3.8.3"
  }
 },
 "nbformat": 4,
 "nbformat_minor": 5
}
